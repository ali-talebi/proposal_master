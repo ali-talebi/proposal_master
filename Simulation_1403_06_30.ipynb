{
  "nbformat": 4,
  "nbformat_minor": 0,
  "metadata": {
    "colab": {
      "provenance": [],
      "authorship_tag": "ABX9TyPt0Mb0DNc1YkLYMS4wkeeq",
      "include_colab_link": true
    },
    "kernelspec": {
      "name": "python3",
      "display_name": "Python 3"
    },
    "language_info": {
      "name": "python"
    }
  },
  "cells": [
    {
      "cell_type": "markdown",
      "metadata": {
        "id": "view-in-github",
        "colab_type": "text"
      },
      "source": [
        "<a href=\"https://colab.research.google.com/github/ali-talebi/proposal_master/blob/main/Simulation_1403_06_30.ipynb\" target=\"_parent\"><img src=\"https://colab.research.google.com/assets/colab-badge.svg\" alt=\"Open In Colab\"/></a>"
      ]
    },
    {
      "cell_type": "code",
      "source": [
        "from google.colab import drive\n",
        "drive.mount('/content/drive')"
      ],
      "metadata": {
        "colab": {
          "base_uri": "https://localhost:8080/"
        },
        "id": "C29fZWzg5Hdf",
        "outputId": "47c9a7de-ffb4-42dc-bd5d-e44c81069e55"
      },
      "execution_count": 2,
      "outputs": [
        {
          "output_type": "stream",
          "name": "stdout",
          "text": [
            "Drive already mounted at /content/drive; to attempt to forcibly remount, call drive.mount(\"/content/drive\", force_remount=True).\n"
          ]
        }
      ]
    },
    {
      "cell_type": "code",
      "execution_count": 18,
      "metadata": {
        "id": "OS-dqSNm47Uw"
      },
      "outputs": [],
      "source": [
        "import pandas as pd\n",
        "import numpy  as np\n",
        "import matplotlib.pyplot as plt\n",
        "from sklearn.linear_model import LinearRegression\n",
        "from sklearn.ensemble import RandomForestRegressor\n",
        "from sklearn.preprocessing import StandardScaler\n",
        "from sklearn.model_selection import train_test_split\n",
        "from sklearn.linear_model import LinearRegression\n",
        "from sklearn.metrics import mean_squared_error\n",
        "from sklearn.preprocessing import PolynomialFeatures\n",
        "import matplotlib.animation as animation\n",
        "from mpl_toolkits.mplot3d import Axes3D\n",
        "import os\n",
        "import seaborn as sns\n",
        "from sklearn.preprocessing import StandardScaler\n",
        "from sklearn.model_selection import train_test_split\n",
        "from sklearn.naive_bayes import GaussianNB\n",
        "from sklearn.metrics import accuracy_score\n",
        "from sklearn.ensemble import RandomForestClassifier\n",
        "import tensorflow as tf\n",
        "from tensorflow import keras\n",
        "from keras.models import Sequential\n",
        "from keras.layers import Dense , Dropout\n",
        "from tensorflow.keras.utils import to_categorical"
      ]
    },
    {
      "cell_type": "code",
      "source": [],
      "metadata": {
        "id": "rpCGhA4d5Elw"
      },
      "execution_count": 3,
      "outputs": []
    },
    {
      "cell_type": "code",
      "source": [
        "root_path = '/content/drive/MyDrive/Malek_Master/code/Total_Data_Simulation'"
      ],
      "metadata": {
        "id": "G0IKHONP4-Ee"
      },
      "execution_count": 2,
      "outputs": []
    },
    {
      "cell_type": "code",
      "source": [
        "total_file_link = []\n",
        "for i in os.listdir(root_path) :\n",
        "  total_file_link.append(root_path+f'/{i}')\n"
      ],
      "metadata": {
        "id": "jztAMgCv5AMo"
      },
      "execution_count": 3,
      "outputs": []
    },
    {
      "cell_type": "code",
      "source": [
        "total_file_link"
      ],
      "metadata": {
        "colab": {
          "base_uri": "https://localhost:8080/"
        },
        "id": "YVBzuWsX5BqY",
        "outputId": "945690fc-2d0a-4e7b-b67a-312f0578de2f"
      },
      "execution_count": 4,
      "outputs": [
        {
          "output_type": "execute_result",
          "data": {
            "text/plain": [
              "['/content/drive/MyDrive/Malek_Master/code/Total_Data_Simulation/Table_2.1.5_azimuth_0_mu_0.15_alpha_negetive_1.7.csv',\n",
              " '/content/drive/MyDrive/Malek_Master/code/Total_Data_Simulation/Table_2.1.6_azimuth_5_mu_0.15_alpha_negetive_1.7.csv',\n",
              " '/content/drive/MyDrive/Malek_Master/code/Total_Data_Simulation/Table_2.1.7_azimuth_10_mu_0.15_alpha_negetive_1.7.csv']"
            ]
          },
          "metadata": {},
          "execution_count": 4
        }
      ]
    },
    {
      "cell_type": "code",
      "source": [
        "pd.read_csv(total_file_link[2])"
      ],
      "metadata": {
        "colab": {
          "base_uri": "https://localhost:8080/",
          "height": 551
        },
        "id": "grrYjBE4-qKb",
        "outputId": "968fc449-3756-4062-8e39-1df70dd865ab"
      },
      "execution_count": 5,
      "outputs": [
        {
          "output_type": "execute_result",
          "data": {
            "text/plain": [
              "       r/R  mean_delta_x  std_delta_x  mean_delta_y  std_delta_y  \\\n",
              "0   0.2001        0.0434       0.0026       -0.0126       0.0013   \n",
              "1   0.2499       -0.0157       0.0019       -0.0235       0.0031   \n",
              "2   0.2998       -0.0418       0.0016       -0.0514       0.0053   \n",
              "3   0.3498       -0.0550       0.0016       -0.0961       0.0091   \n",
              "4   0.3913       -0.0646       0.0024       -0.1332       0.0133   \n",
              "5   0.4496       -0.1020       0.0026       -0.1704       0.0173   \n",
              "6   0.4997       -0.1255       0.0030       -0.2004       0.0207   \n",
              "7   0.5387       -0.1535       0.0028       -0.2193       0.0230   \n",
              "8   0.5996       -0.1964       0.0031       -0.2466       0.0273   \n",
              "9   0.6498       -0.2235       0.0031       -0.2726       0.0316   \n",
              "10  0.6998       -0.2741       0.0030       -0.2945       0.0354   \n",
              "11  0.7500       -0.3002       0.0029       -0.3091       0.0391   \n",
              "12  0.8001       -0.3363       0.0029       -0.3486       0.0430   \n",
              "13  0.8497       -0.3810       0.0031       -0.3719       0.0474   \n",
              "14  0.9102       -0.4236       0.0032       -0.3486       0.0526   \n",
              "15  0.9734       -0.3914       0.0037       -0.3834       0.0581   \n",
              "\n",
              "    mean_delta_z  std_delta_z  \n",
              "0        -0.0162       0.0040  \n",
              "1        -0.0061       0.0079  \n",
              "2        -0.0781       0.0130  \n",
              "3        -0.1268       0.0216  \n",
              "4        -0.1839       0.0303  \n",
              "5        -0.3251       0.0405  \n",
              "6        -0.4803       0.0503  \n",
              "7        -0.6758       0.0569  \n",
              "8        -0.9893       0.0678  \n",
              "9        -1.3829       0.0783  \n",
              "10       -1.7870       0.0876  \n",
              "11       -2.2590       0.0965  \n",
              "12       -2.7745       0.1069  \n",
              "13       -3.3516       0.1185  \n",
              "14       -4.1247       0.1339  \n",
              "15       -4.8769       0.1475  "
            ],
            "text/html": [
              "\n",
              "  <div id=\"df-271607eb-750e-40a9-a706-8afeba2b1b0c\" class=\"colab-df-container\">\n",
              "    <div>\n",
              "<style scoped>\n",
              "    .dataframe tbody tr th:only-of-type {\n",
              "        vertical-align: middle;\n",
              "    }\n",
              "\n",
              "    .dataframe tbody tr th {\n",
              "        vertical-align: top;\n",
              "    }\n",
              "\n",
              "    .dataframe thead th {\n",
              "        text-align: right;\n",
              "    }\n",
              "</style>\n",
              "<table border=\"1\" class=\"dataframe\">\n",
              "  <thead>\n",
              "    <tr style=\"text-align: right;\">\n",
              "      <th></th>\n",
              "      <th>r/R</th>\n",
              "      <th>mean_delta_x</th>\n",
              "      <th>std_delta_x</th>\n",
              "      <th>mean_delta_y</th>\n",
              "      <th>std_delta_y</th>\n",
              "      <th>mean_delta_z</th>\n",
              "      <th>std_delta_z</th>\n",
              "    </tr>\n",
              "  </thead>\n",
              "  <tbody>\n",
              "    <tr>\n",
              "      <th>0</th>\n",
              "      <td>0.2001</td>\n",
              "      <td>0.0434</td>\n",
              "      <td>0.0026</td>\n",
              "      <td>-0.0126</td>\n",
              "      <td>0.0013</td>\n",
              "      <td>-0.0162</td>\n",
              "      <td>0.0040</td>\n",
              "    </tr>\n",
              "    <tr>\n",
              "      <th>1</th>\n",
              "      <td>0.2499</td>\n",
              "      <td>-0.0157</td>\n",
              "      <td>0.0019</td>\n",
              "      <td>-0.0235</td>\n",
              "      <td>0.0031</td>\n",
              "      <td>-0.0061</td>\n",
              "      <td>0.0079</td>\n",
              "    </tr>\n",
              "    <tr>\n",
              "      <th>2</th>\n",
              "      <td>0.2998</td>\n",
              "      <td>-0.0418</td>\n",
              "      <td>0.0016</td>\n",
              "      <td>-0.0514</td>\n",
              "      <td>0.0053</td>\n",
              "      <td>-0.0781</td>\n",
              "      <td>0.0130</td>\n",
              "    </tr>\n",
              "    <tr>\n",
              "      <th>3</th>\n",
              "      <td>0.3498</td>\n",
              "      <td>-0.0550</td>\n",
              "      <td>0.0016</td>\n",
              "      <td>-0.0961</td>\n",
              "      <td>0.0091</td>\n",
              "      <td>-0.1268</td>\n",
              "      <td>0.0216</td>\n",
              "    </tr>\n",
              "    <tr>\n",
              "      <th>4</th>\n",
              "      <td>0.3913</td>\n",
              "      <td>-0.0646</td>\n",
              "      <td>0.0024</td>\n",
              "      <td>-0.1332</td>\n",
              "      <td>0.0133</td>\n",
              "      <td>-0.1839</td>\n",
              "      <td>0.0303</td>\n",
              "    </tr>\n",
              "    <tr>\n",
              "      <th>5</th>\n",
              "      <td>0.4496</td>\n",
              "      <td>-0.1020</td>\n",
              "      <td>0.0026</td>\n",
              "      <td>-0.1704</td>\n",
              "      <td>0.0173</td>\n",
              "      <td>-0.3251</td>\n",
              "      <td>0.0405</td>\n",
              "    </tr>\n",
              "    <tr>\n",
              "      <th>6</th>\n",
              "      <td>0.4997</td>\n",
              "      <td>-0.1255</td>\n",
              "      <td>0.0030</td>\n",
              "      <td>-0.2004</td>\n",
              "      <td>0.0207</td>\n",
              "      <td>-0.4803</td>\n",
              "      <td>0.0503</td>\n",
              "    </tr>\n",
              "    <tr>\n",
              "      <th>7</th>\n",
              "      <td>0.5387</td>\n",
              "      <td>-0.1535</td>\n",
              "      <td>0.0028</td>\n",
              "      <td>-0.2193</td>\n",
              "      <td>0.0230</td>\n",
              "      <td>-0.6758</td>\n",
              "      <td>0.0569</td>\n",
              "    </tr>\n",
              "    <tr>\n",
              "      <th>8</th>\n",
              "      <td>0.5996</td>\n",
              "      <td>-0.1964</td>\n",
              "      <td>0.0031</td>\n",
              "      <td>-0.2466</td>\n",
              "      <td>0.0273</td>\n",
              "      <td>-0.9893</td>\n",
              "      <td>0.0678</td>\n",
              "    </tr>\n",
              "    <tr>\n",
              "      <th>9</th>\n",
              "      <td>0.6498</td>\n",
              "      <td>-0.2235</td>\n",
              "      <td>0.0031</td>\n",
              "      <td>-0.2726</td>\n",
              "      <td>0.0316</td>\n",
              "      <td>-1.3829</td>\n",
              "      <td>0.0783</td>\n",
              "    </tr>\n",
              "    <tr>\n",
              "      <th>10</th>\n",
              "      <td>0.6998</td>\n",
              "      <td>-0.2741</td>\n",
              "      <td>0.0030</td>\n",
              "      <td>-0.2945</td>\n",
              "      <td>0.0354</td>\n",
              "      <td>-1.7870</td>\n",
              "      <td>0.0876</td>\n",
              "    </tr>\n",
              "    <tr>\n",
              "      <th>11</th>\n",
              "      <td>0.7500</td>\n",
              "      <td>-0.3002</td>\n",
              "      <td>0.0029</td>\n",
              "      <td>-0.3091</td>\n",
              "      <td>0.0391</td>\n",
              "      <td>-2.2590</td>\n",
              "      <td>0.0965</td>\n",
              "    </tr>\n",
              "    <tr>\n",
              "      <th>12</th>\n",
              "      <td>0.8001</td>\n",
              "      <td>-0.3363</td>\n",
              "      <td>0.0029</td>\n",
              "      <td>-0.3486</td>\n",
              "      <td>0.0430</td>\n",
              "      <td>-2.7745</td>\n",
              "      <td>0.1069</td>\n",
              "    </tr>\n",
              "    <tr>\n",
              "      <th>13</th>\n",
              "      <td>0.8497</td>\n",
              "      <td>-0.3810</td>\n",
              "      <td>0.0031</td>\n",
              "      <td>-0.3719</td>\n",
              "      <td>0.0474</td>\n",
              "      <td>-3.3516</td>\n",
              "      <td>0.1185</td>\n",
              "    </tr>\n",
              "    <tr>\n",
              "      <th>14</th>\n",
              "      <td>0.9102</td>\n",
              "      <td>-0.4236</td>\n",
              "      <td>0.0032</td>\n",
              "      <td>-0.3486</td>\n",
              "      <td>0.0526</td>\n",
              "      <td>-4.1247</td>\n",
              "      <td>0.1339</td>\n",
              "    </tr>\n",
              "    <tr>\n",
              "      <th>15</th>\n",
              "      <td>0.9734</td>\n",
              "      <td>-0.3914</td>\n",
              "      <td>0.0037</td>\n",
              "      <td>-0.3834</td>\n",
              "      <td>0.0581</td>\n",
              "      <td>-4.8769</td>\n",
              "      <td>0.1475</td>\n",
              "    </tr>\n",
              "  </tbody>\n",
              "</table>\n",
              "</div>\n",
              "    <div class=\"colab-df-buttons\">\n",
              "\n",
              "  <div class=\"colab-df-container\">\n",
              "    <button class=\"colab-df-convert\" onclick=\"convertToInteractive('df-271607eb-750e-40a9-a706-8afeba2b1b0c')\"\n",
              "            title=\"Convert this dataframe to an interactive table.\"\n",
              "            style=\"display:none;\">\n",
              "\n",
              "  <svg xmlns=\"http://www.w3.org/2000/svg\" height=\"24px\" viewBox=\"0 -960 960 960\">\n",
              "    <path d=\"M120-120v-720h720v720H120Zm60-500h600v-160H180v160Zm220 220h160v-160H400v160Zm0 220h160v-160H400v160ZM180-400h160v-160H180v160Zm440 0h160v-160H620v160ZM180-180h160v-160H180v160Zm440 0h160v-160H620v160Z\"/>\n",
              "  </svg>\n",
              "    </button>\n",
              "\n",
              "  <style>\n",
              "    .colab-df-container {\n",
              "      display:flex;\n",
              "      gap: 12px;\n",
              "    }\n",
              "\n",
              "    .colab-df-convert {\n",
              "      background-color: #E8F0FE;\n",
              "      border: none;\n",
              "      border-radius: 50%;\n",
              "      cursor: pointer;\n",
              "      display: none;\n",
              "      fill: #1967D2;\n",
              "      height: 32px;\n",
              "      padding: 0 0 0 0;\n",
              "      width: 32px;\n",
              "    }\n",
              "\n",
              "    .colab-df-convert:hover {\n",
              "      background-color: #E2EBFA;\n",
              "      box-shadow: 0px 1px 2px rgba(60, 64, 67, 0.3), 0px 1px 3px 1px rgba(60, 64, 67, 0.15);\n",
              "      fill: #174EA6;\n",
              "    }\n",
              "\n",
              "    .colab-df-buttons div {\n",
              "      margin-bottom: 4px;\n",
              "    }\n",
              "\n",
              "    [theme=dark] .colab-df-convert {\n",
              "      background-color: #3B4455;\n",
              "      fill: #D2E3FC;\n",
              "    }\n",
              "\n",
              "    [theme=dark] .colab-df-convert:hover {\n",
              "      background-color: #434B5C;\n",
              "      box-shadow: 0px 1px 3px 1px rgba(0, 0, 0, 0.15);\n",
              "      filter: drop-shadow(0px 1px 2px rgba(0, 0, 0, 0.3));\n",
              "      fill: #FFFFFF;\n",
              "    }\n",
              "  </style>\n",
              "\n",
              "    <script>\n",
              "      const buttonEl =\n",
              "        document.querySelector('#df-271607eb-750e-40a9-a706-8afeba2b1b0c button.colab-df-convert');\n",
              "      buttonEl.style.display =\n",
              "        google.colab.kernel.accessAllowed ? 'block' : 'none';\n",
              "\n",
              "      async function convertToInteractive(key) {\n",
              "        const element = document.querySelector('#df-271607eb-750e-40a9-a706-8afeba2b1b0c');\n",
              "        const dataTable =\n",
              "          await google.colab.kernel.invokeFunction('convertToInteractive',\n",
              "                                                    [key], {});\n",
              "        if (!dataTable) return;\n",
              "\n",
              "        const docLinkHtml = 'Like what you see? Visit the ' +\n",
              "          '<a target=\"_blank\" href=https://colab.research.google.com/notebooks/data_table.ipynb>data table notebook</a>'\n",
              "          + ' to learn more about interactive tables.';\n",
              "        element.innerHTML = '';\n",
              "        dataTable['output_type'] = 'display_data';\n",
              "        await google.colab.output.renderOutput(dataTable, element);\n",
              "        const docLink = document.createElement('div');\n",
              "        docLink.innerHTML = docLinkHtml;\n",
              "        element.appendChild(docLink);\n",
              "      }\n",
              "    </script>\n",
              "  </div>\n",
              "\n",
              "\n",
              "<div id=\"df-9666789e-cfbb-4f0f-a98e-7234d597c7cb\">\n",
              "  <button class=\"colab-df-quickchart\" onclick=\"quickchart('df-9666789e-cfbb-4f0f-a98e-7234d597c7cb')\"\n",
              "            title=\"Suggest charts\"\n",
              "            style=\"display:none;\">\n",
              "\n",
              "<svg xmlns=\"http://www.w3.org/2000/svg\" height=\"24px\"viewBox=\"0 0 24 24\"\n",
              "     width=\"24px\">\n",
              "    <g>\n",
              "        <path d=\"M19 3H5c-1.1 0-2 .9-2 2v14c0 1.1.9 2 2 2h14c1.1 0 2-.9 2-2V5c0-1.1-.9-2-2-2zM9 17H7v-7h2v7zm4 0h-2V7h2v10zm4 0h-2v-4h2v4z\"/>\n",
              "    </g>\n",
              "</svg>\n",
              "  </button>\n",
              "\n",
              "<style>\n",
              "  .colab-df-quickchart {\n",
              "      --bg-color: #E8F0FE;\n",
              "      --fill-color: #1967D2;\n",
              "      --hover-bg-color: #E2EBFA;\n",
              "      --hover-fill-color: #174EA6;\n",
              "      --disabled-fill-color: #AAA;\n",
              "      --disabled-bg-color: #DDD;\n",
              "  }\n",
              "\n",
              "  [theme=dark] .colab-df-quickchart {\n",
              "      --bg-color: #3B4455;\n",
              "      --fill-color: #D2E3FC;\n",
              "      --hover-bg-color: #434B5C;\n",
              "      --hover-fill-color: #FFFFFF;\n",
              "      --disabled-bg-color: #3B4455;\n",
              "      --disabled-fill-color: #666;\n",
              "  }\n",
              "\n",
              "  .colab-df-quickchart {\n",
              "    background-color: var(--bg-color);\n",
              "    border: none;\n",
              "    border-radius: 50%;\n",
              "    cursor: pointer;\n",
              "    display: none;\n",
              "    fill: var(--fill-color);\n",
              "    height: 32px;\n",
              "    padding: 0;\n",
              "    width: 32px;\n",
              "  }\n",
              "\n",
              "  .colab-df-quickchart:hover {\n",
              "    background-color: var(--hover-bg-color);\n",
              "    box-shadow: 0 1px 2px rgba(60, 64, 67, 0.3), 0 1px 3px 1px rgba(60, 64, 67, 0.15);\n",
              "    fill: var(--button-hover-fill-color);\n",
              "  }\n",
              "\n",
              "  .colab-df-quickchart-complete:disabled,\n",
              "  .colab-df-quickchart-complete:disabled:hover {\n",
              "    background-color: var(--disabled-bg-color);\n",
              "    fill: var(--disabled-fill-color);\n",
              "    box-shadow: none;\n",
              "  }\n",
              "\n",
              "  .colab-df-spinner {\n",
              "    border: 2px solid var(--fill-color);\n",
              "    border-color: transparent;\n",
              "    border-bottom-color: var(--fill-color);\n",
              "    animation:\n",
              "      spin 1s steps(1) infinite;\n",
              "  }\n",
              "\n",
              "  @keyframes spin {\n",
              "    0% {\n",
              "      border-color: transparent;\n",
              "      border-bottom-color: var(--fill-color);\n",
              "      border-left-color: var(--fill-color);\n",
              "    }\n",
              "    20% {\n",
              "      border-color: transparent;\n",
              "      border-left-color: var(--fill-color);\n",
              "      border-top-color: var(--fill-color);\n",
              "    }\n",
              "    30% {\n",
              "      border-color: transparent;\n",
              "      border-left-color: var(--fill-color);\n",
              "      border-top-color: var(--fill-color);\n",
              "      border-right-color: var(--fill-color);\n",
              "    }\n",
              "    40% {\n",
              "      border-color: transparent;\n",
              "      border-right-color: var(--fill-color);\n",
              "      border-top-color: var(--fill-color);\n",
              "    }\n",
              "    60% {\n",
              "      border-color: transparent;\n",
              "      border-right-color: var(--fill-color);\n",
              "    }\n",
              "    80% {\n",
              "      border-color: transparent;\n",
              "      border-right-color: var(--fill-color);\n",
              "      border-bottom-color: var(--fill-color);\n",
              "    }\n",
              "    90% {\n",
              "      border-color: transparent;\n",
              "      border-bottom-color: var(--fill-color);\n",
              "    }\n",
              "  }\n",
              "</style>\n",
              "\n",
              "  <script>\n",
              "    async function quickchart(key) {\n",
              "      const quickchartButtonEl =\n",
              "        document.querySelector('#' + key + ' button');\n",
              "      quickchartButtonEl.disabled = true;  // To prevent multiple clicks.\n",
              "      quickchartButtonEl.classList.add('colab-df-spinner');\n",
              "      try {\n",
              "        const charts = await google.colab.kernel.invokeFunction(\n",
              "            'suggestCharts', [key], {});\n",
              "      } catch (error) {\n",
              "        console.error('Error during call to suggestCharts:', error);\n",
              "      }\n",
              "      quickchartButtonEl.classList.remove('colab-df-spinner');\n",
              "      quickchartButtonEl.classList.add('colab-df-quickchart-complete');\n",
              "    }\n",
              "    (() => {\n",
              "      let quickchartButtonEl =\n",
              "        document.querySelector('#df-9666789e-cfbb-4f0f-a98e-7234d597c7cb button');\n",
              "      quickchartButtonEl.style.display =\n",
              "        google.colab.kernel.accessAllowed ? 'block' : 'none';\n",
              "    })();\n",
              "  </script>\n",
              "</div>\n",
              "    </div>\n",
              "  </div>\n"
            ],
            "application/vnd.google.colaboratory.intrinsic+json": {
              "type": "dataframe",
              "summary": "{\n  \"name\": \"pd\",\n  \"rows\": 16,\n  \"fields\": [\n    {\n      \"column\": \"r/R\",\n      \"properties\": {\n        \"dtype\": \"number\",\n        \"std\": 0.242040272733692,\n        \"min\": 0.2001,\n        \"max\": 0.9734,\n        \"num_unique_values\": 16,\n        \"samples\": [\n          0.2001,\n          0.2499,\n          0.4496\n        ],\n        \"semantic_type\": \"\",\n        \"description\": \"\"\n      }\n    },\n    {\n      \"column\": \"mean_delta_x\",\n      \"properties\": {\n        \"dtype\": \"number\",\n        \"std\": 0.14773885293539635,\n        \"min\": -0.4236,\n        \"max\": 0.0434,\n        \"num_unique_values\": 16,\n        \"samples\": [\n          0.0434,\n          -0.0157,\n          -0.102\n        ],\n        \"semantic_type\": \"\",\n        \"description\": \"\"\n      }\n    },\n    {\n      \"column\": \"std_delta_x\",\n      \"properties\": {\n        \"dtype\": \"number\",\n        \"std\": 0.0005867637230322498,\n        \"min\": 0.0016,\n        \"max\": 0.0037,\n        \"num_unique_values\": 10,\n        \"samples\": [\n          0.0032,\n          0.0019,\n          0.0028\n        ],\n        \"semantic_type\": \"\",\n        \"description\": \"\"\n      }\n    },\n    {\n      \"column\": \"mean_delta_y\",\n      \"properties\": {\n        \"dtype\": \"number\",\n        \"std\": 0.12530134277013955,\n        \"min\": -0.3834,\n        \"max\": -0.0126,\n        \"num_unique_values\": 15,\n        \"samples\": [\n          -0.2726,\n          -0.3091,\n          -0.0126\n        ],\n        \"semantic_type\": \"\",\n        \"description\": \"\"\n      }\n    },\n    {\n      \"column\": \"std_delta_y\",\n      \"properties\": {\n        \"dtype\": \"number\",\n        \"std\": 0.018059549643701895,\n        \"min\": 0.0013,\n        \"max\": 0.0581,\n        \"num_unique_values\": 16,\n        \"samples\": [\n          0.0013,\n          0.0031,\n          0.0173\n        ],\n        \"semantic_type\": \"\",\n        \"description\": \"\"\n      }\n    },\n    {\n      \"column\": \"mean_delta_z\",\n      \"properties\": {\n        \"dtype\": \"number\",\n        \"std\": 1.5796836741892346,\n        \"min\": -4.8769,\n        \"max\": -0.0061,\n        \"num_unique_values\": 16,\n        \"samples\": [\n          -0.0162,\n          -0.0061,\n          -0.3251\n        ],\n        \"semantic_type\": \"\",\n        \"description\": \"\"\n      }\n    },\n    {\n      \"column\": \"std_delta_z\",\n      \"properties\": {\n        \"dtype\": \"number\",\n        \"std\": 0.04581497526282572,\n        \"min\": 0.004,\n        \"max\": 0.1475,\n        \"num_unique_values\": 16,\n        \"samples\": [\n          0.004,\n          0.0079,\n          0.0405\n        ],\n        \"semantic_type\": \"\",\n        \"description\": \"\"\n      }\n    }\n  ]\n}"
            }
          },
          "metadata": {},
          "execution_count": 5
        }
      ]
    },
    {
      "cell_type": "code",
      "source": [
        "total_alpha_content = [ i / 1000 for i in range(1 , 901 ) ]\n",
        "total_flat_content  = [ i for i in range(1 , 10 ) ]\n",
        "total_location      = list(range( 10 , 16))"
      ],
      "metadata": {
        "id": "qKl3FidL-r4H"
      },
      "execution_count": 9,
      "outputs": []
    },
    {
      "cell_type": "code",
      "source": [
        "points = []\n",
        "start_x = 65\n",
        "start_y = [0 , -5 , -10.0 ]\n",
        "for i in range(15) :\n",
        "  start_x +=  15\n",
        "\n",
        "  for j in range(3) :\n",
        "    points.append([start_x , start_y[j] , 0 ] )\n",
        "\n",
        "points.append([330 , -2.5 , 0 ])\n",
        "points.append([330 , -7.5 , 0 ])\n",
        "points.append([330 , -12.5 , 0 ])\n",
        "total_points = np.array(points)\n",
        "plt.scatter(total_points[ : ,  0 ] , total_points[ : , 1 ] , label = \"target\" )\n",
        "plt.legend()\n",
        "plt.title(\"Blade Shape - Picture 1.7 page 7 document volume 2 \")\n",
        "plt.xlabel(\" X (in) \")\n",
        "plt.ylabel(\" Y (in) \")\n",
        "plt.grid()\n",
        "plt.show()\n"
      ],
      "metadata": {
        "colab": {
          "base_uri": "https://localhost:8080/",
          "height": 472
        },
        "id": "a3fKi4rk-t0d",
        "outputId": "022d84c1-09c6-47c3-fdfd-7f7c80757084"
      },
      "execution_count": 10,
      "outputs": [
        {
          "output_type": "display_data",
          "data": {
            "text/plain": [
              "<Figure size 640x480 with 1 Axes>"
            ],
            "image/png": "[encoded data removed]"
          },
          "metadata": {}
        }
      ]
    },
    {
      "cell_type": "code",
      "source": [
        "total_simulation = {\n",
        "    'bias_correlation' : [] ,\n",
        "    'betha_1_correlation' : [] ,\n",
        "    'betha_2_correlation' : [] ,\n",
        "    'betha_3_correlation' : [] ,\n",
        "    'betha_4_correlation' : [] ,\n",
        "    'betha_5_correlation' : [] ,\n",
        "    'alpha' : [] ,\n",
        "    'accuracy_nav' : [] ,\n",
        "    'accuracy_svm_svc' : [] ,\n",
        "    'accuracy_random_forest' : [] ,\n",
        "    'accuracy_extra' : [] ,\n",
        "    'accuraacy_ann'  : []\n",
        "}"
      ],
      "metadata": {
        "id": "1ocKfJoe-v6j"
      },
      "execution_count": 11,
      "outputs": []
    },
    {
      "cell_type": "code",
      "source": [
        "params_health  = []\n",
        "params_fault   = []\n",
        "params_fault_t = []\n",
        "for iter_alpha in total_alpha_content :\n",
        "  for iter_flat in total_flat_content :\n",
        "    for iter_link in total_file_link :\n",
        "      df_table_change     = pd.read_csv(iter_link)\n",
        "      for locate in total_location:\n",
        "        related_x = -1\n",
        "        related_y = -1\n",
        "        related_z = -1\n",
        "        for iteration in range(5):\n",
        "          new_data_simulated_ = []\n",
        "          new_data_simulated_fault = []\n",
        "          new_data_simulated_fault_t = []\n",
        "          alpha = 0\n",
        "          term  = 0\n",
        "          Flat_Add = 0\n",
        "          noise_activate = ( (np.random.randn() + 1 ) / 100 )\n",
        "          print( f'Alpha : {iter_alpha} ' ,  f'Table Change : {iter_link}' , ' -- ' , f'Locate : {locate} ' , ' -- ' , f\"Iter : {iteration}\" , ' -- ' , '')\n",
        "          select_location = 0\n",
        "          for i in range(df_table_change.shape[0]):\n",
        "            x_mean = df_table_change.iloc[i, 1]\n",
        "            x_std  = df_table_change.iloc[i, 2]\n",
        "            y_mean = df_table_change.iloc[i, 3]\n",
        "            y_std  = df_table_change.iloc[i, 4]\n",
        "            z_mean = df_table_change.iloc[i, 5]\n",
        "            z_std  = df_table_change.iloc[i, 6]\n",
        "\n",
        "            if i > locate :\n",
        "              alpha = iter_alpha\n",
        "              term  = -1 * ( alpha * abs( i - locate ) + noise_activate )\n",
        "              Flat_Add  = iter_flat\n",
        "\n",
        "            for element in total_points[i * 3: (i + 1) * 3, :]:\n",
        "              x_sample = element[0]\n",
        "              y_sample = element[1]\n",
        "              z_sample = element[2]\n",
        "              rng = np.random.default_rng()\n",
        "              x_added  = rng.normal(x_mean, x_std, size=1)\n",
        "              x_added  = x_added.tolist()[0]\n",
        "              x_sample += related_x * x_added\n",
        "\n",
        "              y_added  = rng.normal(y_mean, y_std, size=1)\n",
        "              y_added  = y_added.tolist()[0]\n",
        "              y_sample += related_y * y_added\n",
        "\n",
        "              z_added  = rng.normal(z_mean, z_std, size=1)\n",
        "              z_base   = z_sample\n",
        "\n",
        "              z_added_term  = z_added.tolist()[0] + term\n",
        "              z_added       = z_added.tolist()[0]\n",
        "              z_sample_new_term = z_base + related_z * z_added_term\n",
        "              z_sample_new      = z_base + related_z * z_added\n",
        "              z_flat  = z_sample_new_term\n",
        "              if select_location == 0 :\n",
        "                if np.random.randint(0 ,2 ) :\n",
        "                  z_flat = z_sample_new_term + Flat_Add\n",
        "\n",
        "\n",
        "\n",
        "\n",
        "\n",
        "\n",
        "              new_data_simulated_.append([ x_sample, y_sample, z_sample_new  ])\n",
        "              new_data_simulated_fault.append([ x_sample, y_sample, z_sample_new_term  ])\n",
        "              new_data_simulated_fault_t.append([ x_sample, y_sample, z_flat  ])\n",
        "\n",
        "\n",
        "\n",
        "\n",
        "\n",
        "\n",
        "          new_data_simulated_        = np.array(new_data_simulated_)\n",
        "          new_data_simulated_fault   = np.array(new_data_simulated_fault)\n",
        "          new_data_simulated_fault_t = np.array(new_data_simulated_fault_t)\n",
        "\n",
        "\n",
        "          fig = plt.figure(figsize=(30, 10))\n",
        "          df_health = pd.DataFrame()\n",
        "          df_health['X_'] = new_data_simulated_[:, 0]\n",
        "          df_health['Y_'] = new_data_simulated_[:, 1]\n",
        "          df_health['Z_'] = new_data_simulated_[:, 2]\n",
        "\n",
        "          poly = PolynomialFeatures(degree=2)\n",
        "          x_poly = poly.fit_transform(df_health[['X_', 'Y_']])\n",
        "          scaler = StandardScaler()\n",
        "          df_stander = pd.DataFrame(scaler.fit_transform(x_poly), columns=['0', 'X', 'Y', 'x1^2', 'x1x2', 'x2^2', ])\n",
        "          df_stander['Z_'] = df_health['Z_']\n",
        "          x_train, x_test, z_train, z_test = train_test_split(df_stander[['0', 'X', 'Y', 'x1^2', 'x1x2', 'x2^2']],\n",
        "                                                                    df_stander[\"Z_\"])\n",
        "          model = LinearRegression()\n",
        "          model.fit(x_train, z_train)\n",
        "          z_predict = model.predict(x_test)\n",
        "          intercept_0 = model.intercept_\n",
        "          coef1 = model.coef_[0]\n",
        "          coef2 = model.coef_[1]\n",
        "          coef3 = model.coef_[2]\n",
        "          coef4 = model.coef_[3]\n",
        "          coef5 = model.coef_[4]\n",
        "          coef6 = model.coef_[5]\n",
        "\n",
        "          total_new_generate = []\n",
        "          total_error = []\n",
        "          for i in range(len(df_health['X_'])):\n",
        "            new_value = intercept_0 + coef1 * df_stander.iloc[i, 0] + coef2 * df_stander.iloc[i, 1] + coef3 * df_stander.iloc[i, 2] + coef4 * df_stander.iloc[i, 3] + coef5 * df_stander.iloc[i, 4]\n",
        "            + coef6 * df_stander.iloc[i, 5]\n",
        "            total_new_generate.append(new_value)\n",
        "            error = df_stander.iloc[i, -1] - new_value\n",
        "            total_error.append(error)\n",
        "\n",
        "\n",
        "          #class health == 0\n",
        "          params_health.append([intercept_0, coef1, coef2, coef3, coef4, coef5, coef6, mean_squared_error(z_predict, z_test),locate , 0 , iter_alpha ,  iter_flat  ])\n",
        "          total_change = [1, 1]\n",
        "          related_x *= total_change[np.random.randint(0, 2)]\n",
        "          related_y *= total_change[np.random.randint(0, 2)]\n",
        "          related_z *= total_change[np.random.randint(0, 2)]\n",
        "          # ---- setup for class Fault ----\n",
        "          df_fault = pd.DataFrame()\n",
        "          df_fault['X_'] = new_data_simulated_fault[:, 0]\n",
        "          df_fault['Y_'] = new_data_simulated_fault[:, 1]\n",
        "          df_fault['Z_'] = new_data_simulated_fault[:, 2]\n",
        "\n",
        "\n",
        "\n",
        "\n",
        "          poly_fault = PolynomialFeatures(degree=2)\n",
        "          x_poly_fault = poly_fault.fit_transform(df_fault[['X_', 'Y_']])\n",
        "          scaler_fault = StandardScaler()\n",
        "          df_stander_fault = pd.DataFrame(scaler_fault.fit_transform(x_poly_fault), columns=['0', 'X', 'Y', 'x1^2', 'x1x2', 'x2^2', ])\n",
        "          df_stander_fault['Z_'] = df_fault['Z_']\n",
        "          x_train_fault , x_test_fault , z_train_fault , z_test_fault = train_test_split(df_stander_fault[['0', 'X', 'Y', 'x1^2', 'x1x2', 'x2^2']], df_stander_fault[\"Z_\"])\n",
        "          model_fault = LinearRegression()\n",
        "          model_fault.fit(x_train_fault, z_train_fault)\n",
        "          z_predict_fault = model_fault.predict(x_test_fault)\n",
        "          intercept_0 = model_fault.intercept_\n",
        "          coef1 = model_fault.coef_[0]\n",
        "          coef2 = model_fault.coef_[1]\n",
        "          coef3 = model_fault.coef_[2]\n",
        "          coef4 = model_fault.coef_[3]\n",
        "          coef5 = model_fault.coef_[4]\n",
        "          coef6 = model_fault.coef_[5]\n",
        "          total_new_generate_fault = []\n",
        "          total_error_fault = []\n",
        "          for i in range(len(df_fault['X_'])):\n",
        "            new_value = intercept_0 + coef1 * df_stander_fault.iloc[i, 0] + coef2 * df_stander_fault.iloc[i, 1] + coef3 *  df_stander_fault.iloc[i, 2] + coef4 * df_stander_fault.iloc[i, 3] + coef5 * df_stander_fault.iloc[i, 4]  + coef6 * df_stander_fault.iloc[i, 5]\n",
        "            total_new_generate_fault.append(new_value)\n",
        "            error_Fault = df_stander_fault.iloc[i, -1] - new_value\n",
        "            total_error_fault.append(error_Fault)\n",
        "\n",
        "          params_fault.append([intercept_0, coef1, coef2, coef3, coef4, coef5, coef6, mean_squared_error(z_predict_fault, z_test_fault),locate ,  1 , iter_alpha ,  iter_flat ])\n",
        "          total_change = [1, 1]\n",
        "          related_x *= total_change[np.random.randint(0, 2)]\n",
        "          related_y *= total_change[np.random.randint(0, 2)]\n",
        "          related_z *= total_change[np.random.randint(0, 2)]\n",
        "\n",
        "          # ---- setup for class Fault T ----\n",
        "\n",
        "          df_fault_t = pd.DataFrame()\n",
        "          df_fault_t['X_'] = new_data_simulated_fault_t[:, 0]\n",
        "          df_fault_t['Y_'] = new_data_simulated_fault_t[:, 1]\n",
        "          df_fault_t['Z_'] = new_data_simulated_fault_t[:, 2]\n",
        "\n",
        "\n",
        "\n",
        "\n",
        "          poly_fault_t = PolynomialFeatures(degree=2)\n",
        "          x_poly_fault_t = poly_fault_t.fit_transform(df_fault_t[['X_', 'Y_']])\n",
        "          scaler_fault_t = StandardScaler()\n",
        "          df_stander_fault_t = pd.DataFrame(scaler_fault_t.fit_transform(x_poly_fault_t), columns=['0', 'X', 'Y', 'x1^2', 'x1x2', 'x2^2', ])\n",
        "          df_stander_fault_t['Z_'] = df_fault_t['Z_']\n",
        "          x_train_fault_t , x_test_fault_t , z_train_fault_t , z_test_fault_t = train_test_split(df_stander_fault_t[['0', 'X', 'Y', 'x1^2', 'x1x2', 'x2^2']], df_stander_fault[\"Z_\"])\n",
        "          model_fault_t = LinearRegression()\n",
        "          model_fault_t.fit(x_train_fault_t, z_train_fault_t)\n",
        "          z_predict_fault = model_fault_t.predict(x_test_fault_t)\n",
        "          intercept_0 = model_fault_t.intercept_\n",
        "          coef1 = model_fault_t.coef_[0]\n",
        "          coef2 = model_fault_t.coef_[1]\n",
        "          coef3 = model_fault_t.coef_[2]\n",
        "          coef4 = model_fault_t.coef_[3]\n",
        "          coef5 = model_fault_t.coef_[4]\n",
        "          coef6 = model_fault_t.coef_[5]\n",
        "          total_new_generate_fault_t = []\n",
        "          total_error_fault_t = []\n",
        "          for i in range(len(df_fault['X_'])):\n",
        "            new_value = intercept_0 + coef1 * df_stander_fault_t.iloc[i, 0] + coef2 * df_stander_fault_t.iloc[i, 1] + coef3 *  df_stander_fault_t.iloc[i, 2] + coef4 * df_stander_fault_t.iloc[i, 3] + coef5 * df_stander_fault_t.iloc[i, 4]  + coef6 * df_stander_fault_t.iloc[i, 5]\n",
        "            total_new_generate_fault_t.append(new_value)\n",
        "            error_Fault = df_stander_fault_t.iloc[i, -1] - new_value\n",
        "            total_error_fault.append(error_Fault)\n",
        "\n",
        "          params_fault_t.append([intercept_0, coef1, coef2, coef3, coef4, coef5, coef6, mean_squared_error(z_predict_fault, z_test_fault),locate ,  2 , iter_alpha ,  iter_flat ])\n",
        "          total_change = [1, 1]\n",
        "          related_x *= total_change[np.random.randint(0, 2)]\n",
        "          related_y *= total_change[np.random.randint(0, 2)]\n",
        "          related_z *= total_change[np.random.randint(0, 2)]\n",
        "\n",
        "\n",
        "\n",
        "\n",
        "#----\n",
        "    params_health = np.array(params_health)\n",
        "    df_params = pd.DataFrame({'bias':params_health[: , 0 ] , 'betha_0':params_health[ : , 1 ] , 'betha_1':params_health[ : , 2 ] , 'betha_2':params_health[ : , 3 ] ,  'betha_3':params_health[ : , 4 ] , 'betha_4':params_health[ : , 5 ] , 'betha_5':params_health[ : , 6 ] , 'error' : params_health[ : , 7 ]  ,\n",
        "                          'locate' : params_health[: , 8 ].astype(int)   , 'class' :params_health[: , 9 ] ,\n",
        "                              'alpha' :params_health[: , 10 ] , 'flap' : params_health[: , 11 ] } )\n",
        "\n",
        "\n",
        "\n",
        "    params_fault = np.array(params_fault)\n",
        "    df_params_fault = pd.DataFrame({'bias':params_fault[: , 0 ] , 'betha_0':params_fault[ : , 1 ] , 'betha_1':params_fault[ : , 2 ] , 'betha_2':params_fault[ : , 3 ] ,  'betha_3':params_fault[ : , 4 ] , 'betha_4':params_fault[ : , 5 ] , 'betha_5':params_fault[ : , 6 ] , 'error' : params_fault[ : , 7 ]  ,\n",
        "                            'locate' : params_fault[: , 8 ].astype(int) ,\n",
        "                                    'class' :params_fault[: , 9 ]  ,\n",
        "                                    'alpha' :params_fault[: , 10 ] , 'flap' : params_fault[: , 11 ] }   )\n",
        "\n",
        "\n",
        "    params_fault_t = np.array(params_fault_t)\n",
        "    df_params_fault_t = pd.DataFrame({'bias':params_fault_t[: , 0 ] , 'betha_0':params_fault_t[ : , 1 ] , 'betha_1':params_fault_t[ : , 2 ] , 'betha_2':params_fault_t[ : , 3 ] ,  'betha_3':params_fault_t[ : , 4 ] , 'betha_4':params_fault_t[ : , 5 ] , 'betha_5':params_fault_t[ : , 6 ] , 'error' : params_fault_t[ : , 7 ]  ,\n",
        "                            'locate' : params_fault_t[: , 8 ].astype(int) ,\n",
        "                                    'class' :params_fault_t[: , 9 ]  ,\n",
        "                                    'alpha' :params_fault_t[: , 10 ] , 'flap' : params_fault_t[: , 11 ] }  )\n",
        "\n",
        "\n",
        "\n",
        "\n",
        "\n",
        "\n",
        "\n",
        "    concat_2_df_health_fault = pd.concat([df_params , df_params_fault , df_params_fault_t ] , axis = 0 )\n",
        "    df_corr = concat_2_df_health_fault.corr()\n",
        "\n",
        "\n",
        "\n",
        "\n",
        "\n",
        "\n",
        "\n",
        "  # --- learning\n",
        "    plt.figure(figsize= (10 , 10 ) )\n",
        "    ax = sns.heatmap(df_corr , annot=True )\n",
        "    print(df_corr)\n",
        "    plt.show()\n",
        "    total_simulation['alpha'].append(iter_alpha)\n",
        "    total_simulation['bias_correlation'].append(df_corr.iloc[0,-1])\n",
        "    total_simulation['betha_1_correlation'].append(df_corr.iloc[1,-1])\n",
        "    total_simulation['betha_2_correlation'].append(df_corr.iloc[2,-1])\n",
        "    total_simulation['betha_3_correlation'].append(df_corr.iloc[3,-1])\n",
        "    total_simulation['betha_4_correlation'].append(df_corr.iloc[4,-1])\n",
        "    total_simulation['betha_5_correlation'].append(df_corr.iloc[1,-1])\n",
        "\n",
        "\n",
        "\n",
        "    #df2_health  =  concat_2_df_health_fault[concat_2_df_health_fault['class'] == 0 ]\n",
        "    #df2_fault   =  concat_2_df_health_fault[concat_2_df_health_fault['class'] == 1 ]\n",
        "    #df2_fault_t =  concat_2_df_health_fault[concat_2_df_health_fault['class'] == 2 ]\n",
        "\n",
        "\n",
        "    stander_u = StandardScaler()\n",
        "    col_pass = [ _ for _ in concat_2_df_health_fault.columns if _ not in ['class' , 'alpha' , 'flap']]\n",
        "    stand_df_with_out = concat_2_df_health_fault.drop(['class' , 'alpha' , 'flap'] , axis = 1 )\n",
        "    concat_2_df_health_fault_stand = pd.DataFrame(stander_u.fit_transform(stand_df_with_out )  , columns = stand_df_with_out.columns )\n",
        "    x_u_train , x_u_test , y_u_train , y_u_test = train_test_split(stand_df_with_out , concat_2_df_health_fault['class'] , random_state=42 , test_size=0.7  )\n",
        "    obj_gaunb = GaussianNB()\n",
        "    obj_gaunb.fit(x_u_train , y_u_train )\n",
        "    pre_nb = obj_gaunb.predict(x_u_test)\n",
        "    accuray_nav = accuracy_score(pre_nb ,y_u_test )\n",
        "    total_simulation['accuracy_nav'].append(accuray_nav)\n",
        "    classifier_1 = RandomForestClassifier()\n",
        "    classifier_1.fit(x_u_train , y_u_train )\n",
        "    pre_random = classifier_1.predict(x_u_test)\n",
        "    accuracy_random_forest = accuracy_score(pre_random ,y_u_test )\n",
        "    total_simulation['accuracy_random_forest'].append(accuracy_random_forest)\n",
        "    y_u_test_new_cat  = to_categorical(y_u_test  , 3 )\n",
        "    y_u_train_new_cat = to_categorical(y_u_train , 3 )\n",
        "    model_learn = Sequential([\n",
        "      Dense(32 , activation = \"relu\" , input_shape = x_u_train.shape[1 : ] ) ,\n",
        "      Dropout(0.2) ,\n",
        "      Dense(10 , activation='relu' ) ,\n",
        "      Dropout(0.2) ,\n",
        "      Dense(3 , activation='softmax')])\n",
        "\n",
        "    model_learn.compile('adam' , loss = 'categorical_crossentropy' , metrics=['acc'])\n",
        "    ali_talebi = model_learn.fit(x_u_train ,y_u_train_new_cat , epochs = 100 , batch_size=20 , validation_data=(x_u_test ,y_u_test_new_cat) )\n",
        "\n",
        "\n",
        "    break\n",
        "  break\n"
      ],
      "metadata": {
        "colab": {
          "base_uri": "https://localhost:8080/",
          "height": 1000
        },
        "id": "9cLH_MQa-xvh",
        "outputId": "76f381e2-f4b3-43e6-8816-c04b61b16806"
      },
      "execution_count": 19,
      "outputs": [
        {
          "output_type": "stream",
          "name": "stdout",
          "text": [
            "Alpha : 0.001  Table Change : /content/drive/MyDrive/Malek_Master/code/Total_Data_Simulation/Table_2.1.5_azimuth_0_mu_0.15_alpha_negetive_1.7.csv  --  Locate : 10   --  Iter : 0  --  \n",
            "Alpha : 0.001  Table Change : /content/drive/MyDrive/Malek_Master/code/Total_Data_Simulation/Table_2.1.5_azimuth_0_mu_0.15_alpha_negetive_1.7.csv  --  Locate : 10   --  Iter : 1  --  \n",
            "Alpha : 0.001  Table Change : /content/drive/MyDrive/Malek_Master/code/Total_Data_Simulation/Table_2.1.5_azimuth_0_mu_0.15_alpha_negetive_1.7.csv  --  Locate : 10   --  Iter : 2  --  \n",
            "Alpha : 0.001  Table Change : /content/drive/MyDrive/Malek_Master/code/Total_Data_Simulation/Table_2.1.5_azimuth_0_mu_0.15_alpha_negetive_1.7.csv  --  Locate : 10   --  Iter : 3  --  \n",
            "Alpha : 0.001  Table Change : /content/drive/MyDrive/Malek_Master/code/Total_Data_Simulation/Table_2.1.5_azimuth_0_mu_0.15_alpha_negetive_1.7.csv  --  Locate : 10   --  Iter : 4  --  \n",
            "Alpha : 0.001  Table Change : /content/drive/MyDrive/Malek_Master/code/Total_Data_Simulation/Table_2.1.5_azimuth_0_mu_0.15_alpha_negetive_1.7.csv  --  Locate : 11   --  Iter : 0  --  \n",
            "Alpha : 0.001  Table Change : /content/drive/MyDrive/Malek_Master/code/Total_Data_Simulation/Table_2.1.5_azimuth_0_mu_0.15_alpha_negetive_1.7.csv  --  Locate : 11   --  Iter : 1  --  \n",
            "Alpha : 0.001  Table Change : /content/drive/MyDrive/Malek_Master/code/Total_Data_Simulation/Table_2.1.5_azimuth_0_mu_0.15_alpha_negetive_1.7.csv  --  Locate : 11   --  Iter : 2  --  \n",
            "Alpha : 0.001  Table Change : /content/drive/MyDrive/Malek_Master/code/Total_Data_Simulation/Table_2.1.5_azimuth_0_mu_0.15_alpha_negetive_1.7.csv  --  Locate : 11   --  Iter : 3  --  \n",
            "Alpha : 0.001  Table Change : /content/drive/MyDrive/Malek_Master/code/Total_Data_Simulation/Table_2.1.5_azimuth_0_mu_0.15_alpha_negetive_1.7.csv  --  Locate : 11   --  Iter : 4  --  \n",
            "Alpha : 0.001  Table Change : /content/drive/MyDrive/Malek_Master/code/Total_Data_Simulation/Table_2.1.5_azimuth_0_mu_0.15_alpha_negetive_1.7.csv  --  Locate : 12   --  Iter : 0  --  \n",
            "Alpha : 0.001  Table Change : /content/drive/MyDrive/Malek_Master/code/Total_Data_Simulation/Table_2.1.5_azimuth_0_mu_0.15_alpha_negetive_1.7.csv  --  Locate : 12   --  Iter : 1  --  \n",
            "Alpha : 0.001  Table Change : /content/drive/MyDrive/Malek_Master/code/Total_Data_Simulation/Table_2.1.5_azimuth_0_mu_0.15_alpha_negetive_1.7.csv  --  Locate : 12   --  Iter : 2  --  \n",
            "Alpha : 0.001  Table Change : /content/drive/MyDrive/Malek_Master/code/Total_Data_Simulation/Table_2.1.5_azimuth_0_mu_0.15_alpha_negetive_1.7.csv  --  Locate : 12   --  Iter : 3  --  \n",
            "Alpha : 0.001  Table Change : /content/drive/MyDrive/Malek_Master/code/Total_Data_Simulation/Table_2.1.5_azimuth_0_mu_0.15_alpha_negetive_1.7.csv  --  Locate : 12   --  Iter : 4  --  \n",
            "Alpha : 0.001  Table Change : /content/drive/MyDrive/Malek_Master/code/Total_Data_Simulation/Table_2.1.5_azimuth_0_mu_0.15_alpha_negetive_1.7.csv  --  Locate : 13   --  Iter : 0  --  \n",
            "Alpha : 0.001  Table Change : /content/drive/MyDrive/Malek_Master/code/Total_Data_Simulation/Table_2.1.5_azimuth_0_mu_0.15_alpha_negetive_1.7.csv  --  Locate : 13   --  Iter : 1  --  \n",
            "Alpha : 0.001  Table Change : /content/drive/MyDrive/Malek_Master/code/Total_Data_Simulation/Table_2.1.5_azimuth_0_mu_0.15_alpha_negetive_1.7.csv  --  Locate : 13   --  Iter : 2  --  \n",
            "Alpha : 0.001  Table Change : /content/drive/MyDrive/Malek_Master/code/Total_Data_Simulation/Table_2.1.5_azimuth_0_mu_0.15_alpha_negetive_1.7.csv  --  Locate : 13   --  Iter : 3  --  \n",
            "Alpha : 0.001  Table Change : /content/drive/MyDrive/Malek_Master/code/Total_Data_Simulation/Table_2.1.5_azimuth_0_mu_0.15_alpha_negetive_1.7.csv  --  Locate : 13   --  Iter : 4  --  \n",
            "Alpha : 0.001  Table Change : /content/drive/MyDrive/Malek_Master/code/Total_Data_Simulation/Table_2.1.5_azimuth_0_mu_0.15_alpha_negetive_1.7.csv  --  Locate : 14   --  Iter : 0  --  \n",
            "Alpha : 0.001  Table Change : /content/drive/MyDrive/Malek_Master/code/Total_Data_Simulation/Table_2.1.5_azimuth_0_mu_0.15_alpha_negetive_1.7.csv  --  Locate : 14   --  Iter : 1  --  \n"
          ]
        },
        {
          "output_type": "stream",
          "name": "stderr",
          "text": [
            "<ipython-input-19-d7560f68b469>:79: RuntimeWarning: More than 20 figures have been opened. Figures created through the pyplot interface (`matplotlib.pyplot.figure`) are retained until explicitly closed and may consume too much memory. (To control this warning, see the rcParam `figure.max_open_warning`). Consider using `matplotlib.pyplot.close()`.\n",
            "  fig = plt.figure(figsize=(30, 10))\n"
          ]
        },
        {
          "output_type": "stream",
          "name": "stdout",
          "text": [
            "Alpha : 0.001  Table Change : /content/drive/MyDrive/Malek_Master/code/Total_Data_Simulation/Table_2.1.5_azimuth_0_mu_0.15_alpha_negetive_1.7.csv  --  Locate : 14   --  Iter : 2  --  \n",
            "Alpha : 0.001  Table Change : /content/drive/MyDrive/Malek_Master/code/Total_Data_Simulation/Table_2.1.5_azimuth_0_mu_0.15_alpha_negetive_1.7.csv  --  Locate : 14   --  Iter : 3  --  \n",
            "Alpha : 0.001  Table Change : /content/drive/MyDrive/Malek_Master/code/Total_Data_Simulation/Table_2.1.5_azimuth_0_mu_0.15_alpha_negetive_1.7.csv  --  Locate : 14   --  Iter : 4  --  \n",
            "Alpha : 0.001  Table Change : /content/drive/MyDrive/Malek_Master/code/Total_Data_Simulation/Table_2.1.5_azimuth_0_mu_0.15_alpha_negetive_1.7.csv  --  Locate : 15   --  Iter : 0  --  \n",
            "Alpha : 0.001  Table Change : /content/drive/MyDrive/Malek_Master/code/Total_Data_Simulation/Table_2.1.5_azimuth_0_mu_0.15_alpha_negetive_1.7.csv  --  Locate : 15   --  Iter : 1  --  \n",
            "Alpha : 0.001  Table Change : /content/drive/MyDrive/Malek_Master/code/Total_Data_Simulation/Table_2.1.5_azimuth_0_mu_0.15_alpha_negetive_1.7.csv  --  Locate : 15   --  Iter : 2  --  \n",
            "Alpha : 0.001  Table Change : /content/drive/MyDrive/Malek_Master/code/Total_Data_Simulation/Table_2.1.5_azimuth_0_mu_0.15_alpha_negetive_1.7.csv  --  Locate : 15   --  Iter : 3  --  \n",
            "Alpha : 0.001  Table Change : /content/drive/MyDrive/Malek_Master/code/Total_Data_Simulation/Table_2.1.5_azimuth_0_mu_0.15_alpha_negetive_1.7.csv  --  Locate : 15   --  Iter : 4  --  \n",
            "Alpha : 0.001  Table Change : /content/drive/MyDrive/Malek_Master/code/Total_Data_Simulation/Table_2.1.6_azimuth_5_mu_0.15_alpha_negetive_1.7.csv  --  Locate : 10   --  Iter : 0  --  \n",
            "Alpha : 0.001  Table Change : /content/drive/MyDrive/Malek_Master/code/Total_Data_Simulation/Table_2.1.6_azimuth_5_mu_0.15_alpha_negetive_1.7.csv  --  Locate : 10   --  Iter : 1  --  \n",
            "Alpha : 0.001  Table Change : /content/drive/MyDrive/Malek_Master/code/Total_Data_Simulation/Table_2.1.6_azimuth_5_mu_0.15_alpha_negetive_1.7.csv  --  Locate : 10   --  Iter : 2  --  \n",
            "Alpha : 0.001  Table Change : /content/drive/MyDrive/Malek_Master/code/Total_Data_Simulation/Table_2.1.6_azimuth_5_mu_0.15_alpha_negetive_1.7.csv  --  Locate : 10   --  Iter : 3  --  \n",
            "Alpha : 0.001  Table Change : /content/drive/MyDrive/Malek_Master/code/Total_Data_Simulation/Table_2.1.6_azimuth_5_mu_0.15_alpha_negetive_1.7.csv  --  Locate : 10   --  Iter : 4  --  \n",
            "Alpha : 0.001  Table Change : /content/drive/MyDrive/Malek_Master/code/Total_Data_Simulation/Table_2.1.6_azimuth_5_mu_0.15_alpha_negetive_1.7.csv  --  Locate : 11   --  Iter : 0  --  \n",
            "Alpha : 0.001  Table Change : /content/drive/MyDrive/Malek_Master/code/Total_Data_Simulation/Table_2.1.6_azimuth_5_mu_0.15_alpha_negetive_1.7.csv  --  Locate : 11   --  Iter : 1  --  \n",
            "Alpha : 0.001  Table Change : /content/drive/MyDrive/Malek_Master/code/Total_Data_Simulation/Table_2.1.6_azimuth_5_mu_0.15_alpha_negetive_1.7.csv  --  Locate : 11   --  Iter : 2  --  \n",
            "Alpha : 0.001  Table Change : /content/drive/MyDrive/Malek_Master/code/Total_Data_Simulation/Table_2.1.6_azimuth_5_mu_0.15_alpha_negetive_1.7.csv  --  Locate : 11   --  Iter : 3  --  \n",
            "Alpha : 0.001  Table Change : /content/drive/MyDrive/Malek_Master/code/Total_Data_Simulation/Table_2.1.6_azimuth_5_mu_0.15_alpha_negetive_1.7.csv  --  Locate : 11   --  Iter : 4  --  \n",
            "Alpha : 0.001  Table Change : /content/drive/MyDrive/Malek_Master/code/Total_Data_Simulation/Table_2.1.6_azimuth_5_mu_0.15_alpha_negetive_1.7.csv  --  Locate : 12   --  Iter : 0  --  \n",
            "Alpha : 0.001  Table Change : /content/drive/MyDrive/Malek_Master/code/Total_Data_Simulation/Table_2.1.6_azimuth_5_mu_0.15_alpha_negetive_1.7.csv  --  Locate : 12   --  Iter : 1  --  \n",
            "Alpha : 0.001  Table Change : /content/drive/MyDrive/Malek_Master/code/Total_Data_Simulation/Table_2.1.6_azimuth_5_mu_0.15_alpha_negetive_1.7.csv  --  Locate : 12   --  Iter : 2  --  \n",
            "Alpha : 0.001  Table Change : /content/drive/MyDrive/Malek_Master/code/Total_Data_Simulation/Table_2.1.6_azimuth_5_mu_0.15_alpha_negetive_1.7.csv  --  Locate : 12   --  Iter : 3  --  \n",
            "Alpha : 0.001  Table Change : /content/drive/MyDrive/Malek_Master/code/Total_Data_Simulation/Table_2.1.6_azimuth_5_mu_0.15_alpha_negetive_1.7.csv  --  Locate : 12   --  Iter : 4  --  \n",
            "Alpha : 0.001  Table Change : /content/drive/MyDrive/Malek_Master/code/Total_Data_Simulation/Table_2.1.6_azimuth_5_mu_0.15_alpha_negetive_1.7.csv  --  Locate : 13   --  Iter : 0  --  \n",
            "Alpha : 0.001  Table Change : /content/drive/MyDrive/Malek_Master/code/Total_Data_Simulation/Table_2.1.6_azimuth_5_mu_0.15_alpha_negetive_1.7.csv  --  Locate : 13   --  Iter : 1  --  \n",
            "Alpha : 0.001  Table Change : /content/drive/MyDrive/Malek_Master/code/Total_Data_Simulation/Table_2.1.6_azimuth_5_mu_0.15_alpha_negetive_1.7.csv  --  Locate : 13   --  Iter : 2  --  \n",
            "Alpha : 0.001  Table Change : /content/drive/MyDrive/Malek_Master/code/Total_Data_Simulation/Table_2.1.6_azimuth_5_mu_0.15_alpha_negetive_1.7.csv  --  Locate : 13   --  Iter : 3  --  \n",
            "Alpha : 0.001  Table Change : /content/drive/MyDrive/Malek_Master/code/Total_Data_Simulation/Table_2.1.6_azimuth_5_mu_0.15_alpha_negetive_1.7.csv  --  Locate : 13   --  Iter : 4  --  \n",
            "Alpha : 0.001  Table Change : /content/drive/MyDrive/Malek_Master/code/Total_Data_Simulation/Table_2.1.6_azimuth_5_mu_0.15_alpha_negetive_1.7.csv  --  Locate : 14   --  Iter : 0  --  \n",
            "Alpha : 0.001  Table Change : /content/drive/MyDrive/Malek_Master/code/Total_Data_Simulation/Table_2.1.6_azimuth_5_mu_0.15_alpha_negetive_1.7.csv  --  Locate : 14   --  Iter : 1  --  \n",
            "Alpha : 0.001  Table Change : /content/drive/MyDrive/Malek_Master/code/Total_Data_Simulation/Table_2.1.6_azimuth_5_mu_0.15_alpha_negetive_1.7.csv  --  Locate : 14   --  Iter : 2  --  \n",
            "Alpha : 0.001  Table Change : /content/drive/MyDrive/Malek_Master/code/Total_Data_Simulation/Table_2.1.6_azimuth_5_mu_0.15_alpha_negetive_1.7.csv  --  Locate : 14   --  Iter : 3  --  \n",
            "Alpha : 0.001  Table Change : /content/drive/MyDrive/Malek_Master/code/Total_Data_Simulation/Table_2.1.6_azimuth_5_mu_0.15_alpha_negetive_1.7.csv  --  Locate : 14   --  Iter : 4  --  \n",
            "Alpha : 0.001  Table Change : /content/drive/MyDrive/Malek_Master/code/Total_Data_Simulation/Table_2.1.6_azimuth_5_mu_0.15_alpha_negetive_1.7.csv  --  Locate : 15   --  Iter : 0  --  \n",
            "Alpha : 0.001  Table Change : /content/drive/MyDrive/Malek_Master/code/Total_Data_Simulation/Table_2.1.6_azimuth_5_mu_0.15_alpha_negetive_1.7.csv  --  Locate : 15   --  Iter : 1  --  \n",
            "Alpha : 0.001  Table Change : /content/drive/MyDrive/Malek_Master/code/Total_Data_Simulation/Table_2.1.6_azimuth_5_mu_0.15_alpha_negetive_1.7.csv  --  Locate : 15   --  Iter : 2  --  \n",
            "Alpha : 0.001  Table Change : /content/drive/MyDrive/Malek_Master/code/Total_Data_Simulation/Table_2.1.6_azimuth_5_mu_0.15_alpha_negetive_1.7.csv  --  Locate : 15   --  Iter : 3  --  \n",
            "Alpha : 0.001  Table Change : /content/drive/MyDrive/Malek_Master/code/Total_Data_Simulation/Table_2.1.6_azimuth_5_mu_0.15_alpha_negetive_1.7.csv  --  Locate : 15   --  Iter : 4  --  \n",
            "Alpha : 0.001  Table Change : /content/drive/MyDrive/Malek_Master/code/Total_Data_Simulation/Table_2.1.7_azimuth_10_mu_0.15_alpha_negetive_1.7.csv  --  Locate : 10   --  Iter : 0  --  \n",
            "Alpha : 0.001  Table Change : /content/drive/MyDrive/Malek_Master/code/Total_Data_Simulation/Table_2.1.7_azimuth_10_mu_0.15_alpha_negetive_1.7.csv  --  Locate : 10   --  Iter : 1  --  \n",
            "Alpha : 0.001  Table Change : /content/drive/MyDrive/Malek_Master/code/Total_Data_Simulation/Table_2.1.7_azimuth_10_mu_0.15_alpha_negetive_1.7.csv  --  Locate : 10   --  Iter : 2  --  \n",
            "Alpha : 0.001  Table Change : /content/drive/MyDrive/Malek_Master/code/Total_Data_Simulation/Table_2.1.7_azimuth_10_mu_0.15_alpha_negetive_1.7.csv  --  Locate : 10   --  Iter : 3  --  \n",
            "Alpha : 0.001  Table Change : /content/drive/MyDrive/Malek_Master/code/Total_Data_Simulation/Table_2.1.7_azimuth_10_mu_0.15_alpha_negetive_1.7.csv  --  Locate : 10   --  Iter : 4  --  \n",
            "Alpha : 0.001  Table Change : /content/drive/MyDrive/Malek_Master/code/Total_Data_Simulation/Table_2.1.7_azimuth_10_mu_0.15_alpha_negetive_1.7.csv  --  Locate : 11   --  Iter : 0  --  \n",
            "Alpha : 0.001  Table Change : /content/drive/MyDrive/Malek_Master/code/Total_Data_Simulation/Table_2.1.7_azimuth_10_mu_0.15_alpha_negetive_1.7.csv  --  Locate : 11   --  Iter : 1  --  \n",
            "Alpha : 0.001  Table Change : /content/drive/MyDrive/Malek_Master/code/Total_Data_Simulation/Table_2.1.7_azimuth_10_mu_0.15_alpha_negetive_1.7.csv  --  Locate : 11   --  Iter : 2  --  \n",
            "Alpha : 0.001  Table Change : /content/drive/MyDrive/Malek_Master/code/Total_Data_Simulation/Table_2.1.7_azimuth_10_mu_0.15_alpha_negetive_1.7.csv  --  Locate : 11   --  Iter : 3  --  \n",
            "Alpha : 0.001  Table Change : /content/drive/MyDrive/Malek_Master/code/Total_Data_Simulation/Table_2.1.7_azimuth_10_mu_0.15_alpha_negetive_1.7.csv  --  Locate : 11   --  Iter : 4  --  \n",
            "Alpha : 0.001  Table Change : /content/drive/MyDrive/Malek_Master/code/Total_Data_Simulation/Table_2.1.7_azimuth_10_mu_0.15_alpha_negetive_1.7.csv  --  Locate : 12   --  Iter : 0  --  \n",
            "Alpha : 0.001  Table Change : /content/drive/MyDrive/Malek_Master/code/Total_Data_Simulation/Table_2.1.7_azimuth_10_mu_0.15_alpha_negetive_1.7.csv  --  Locate : 12   --  Iter : 1  --  \n",
            "Alpha : 0.001  Table Change : /content/drive/MyDrive/Malek_Master/code/Total_Data_Simulation/Table_2.1.7_azimuth_10_mu_0.15_alpha_negetive_1.7.csv  --  Locate : 12   --  Iter : 2  --  \n",
            "Alpha : 0.001  Table Change : /content/drive/MyDrive/Malek_Master/code/Total_Data_Simulation/Table_2.1.7_azimuth_10_mu_0.15_alpha_negetive_1.7.csv  --  Locate : 12   --  Iter : 3  --  \n",
            "Alpha : 0.001  Table Change : /content/drive/MyDrive/Malek_Master/code/Total_Data_Simulation/Table_2.1.7_azimuth_10_mu_0.15_alpha_negetive_1.7.csv  --  Locate : 12   --  Iter : 4  --  \n",
            "Alpha : 0.001  Table Change : /content/drive/MyDrive/Malek_Master/code/Total_Data_Simulation/Table_2.1.7_azimuth_10_mu_0.15_alpha_negetive_1.7.csv  --  Locate : 13   --  Iter : 0  --  \n",
            "Alpha : 0.001  Table Change : /content/drive/MyDrive/Malek_Master/code/Total_Data_Simulation/Table_2.1.7_azimuth_10_mu_0.15_alpha_negetive_1.7.csv  --  Locate : 13   --  Iter : 1  --  \n",
            "Alpha : 0.001  Table Change : /content/drive/MyDrive/Malek_Master/code/Total_Data_Simulation/Table_2.1.7_azimuth_10_mu_0.15_alpha_negetive_1.7.csv  --  Locate : 13   --  Iter : 2  --  \n",
            "Alpha : 0.001  Table Change : /content/drive/MyDrive/Malek_Master/code/Total_Data_Simulation/Table_2.1.7_azimuth_10_mu_0.15_alpha_negetive_1.7.csv  --  Locate : 13   --  Iter : 3  --  \n",
            "Alpha : 0.001  Table Change : /content/drive/MyDrive/Malek_Master/code/Total_Data_Simulation/Table_2.1.7_azimuth_10_mu_0.15_alpha_negetive_1.7.csv  --  Locate : 13   --  Iter : 4  --  \n",
            "Alpha : 0.001  Table Change : /content/drive/MyDrive/Malek_Master/code/Total_Data_Simulation/Table_2.1.7_azimuth_10_mu_0.15_alpha_negetive_1.7.csv  --  Locate : 14   --  Iter : 0  --  \n",
            "Alpha : 0.001  Table Change : /content/drive/MyDrive/Malek_Master/code/Total_Data_Simulation/Table_2.1.7_azimuth_10_mu_0.15_alpha_negetive_1.7.csv  --  Locate : 14   --  Iter : 1  --  \n",
            "Alpha : 0.001  Table Change : /content/drive/MyDrive/Malek_Master/code/Total_Data_Simulation/Table_2.1.7_azimuth_10_mu_0.15_alpha_negetive_1.7.csv  --  Locate : 14   --  Iter : 2  --  \n",
            "Alpha : 0.001  Table Change : /content/drive/MyDrive/Malek_Master/code/Total_Data_Simulation/Table_2.1.7_azimuth_10_mu_0.15_alpha_negetive_1.7.csv  --  Locate : 14   --  Iter : 3  --  \n",
            "Alpha : 0.001  Table Change : /content/drive/MyDrive/Malek_Master/code/Total_Data_Simulation/Table_2.1.7_azimuth_10_mu_0.15_alpha_negetive_1.7.csv  --  Locate : 14   --  Iter : 4  --  \n",
            "Alpha : 0.001  Table Change : /content/drive/MyDrive/Malek_Master/code/Total_Data_Simulation/Table_2.1.7_azimuth_10_mu_0.15_alpha_negetive_1.7.csv  --  Locate : 15   --  Iter : 0  --  \n",
            "Alpha : 0.001  Table Change : /content/drive/MyDrive/Malek_Master/code/Total_Data_Simulation/Table_2.1.7_azimuth_10_mu_0.15_alpha_negetive_1.7.csv  --  Locate : 15   --  Iter : 1  --  \n",
            "Alpha : 0.001  Table Change : /content/drive/MyDrive/Malek_Master/code/Total_Data_Simulation/Table_2.1.7_azimuth_10_mu_0.15_alpha_negetive_1.7.csv  --  Locate : 15   --  Iter : 2  --  \n",
            "Alpha : 0.001  Table Change : /content/drive/MyDrive/Malek_Master/code/Total_Data_Simulation/Table_2.1.7_azimuth_10_mu_0.15_alpha_negetive_1.7.csv  --  Locate : 15   --  Iter : 3  --  \n",
            "Alpha : 0.001  Table Change : /content/drive/MyDrive/Malek_Master/code/Total_Data_Simulation/Table_2.1.7_azimuth_10_mu_0.15_alpha_negetive_1.7.csv  --  Locate : 15   --  Iter : 4  --  \n",
            "             bias  betha_0   betha_1   betha_2   betha_3   betha_4   betha_5  \\\n",
            "bias     1.000000      NaN  0.322964  0.001315  0.554521 -0.016405 -0.012051   \n",
            "betha_0       NaN      NaN       NaN       NaN       NaN       NaN       NaN   \n",
            "betha_1  0.322964      NaN  1.000000 -0.053919 -0.581355  0.103256  0.024574   \n",
            "betha_2  0.001315      NaN -0.053919  1.000000 -0.106158 -0.731164  0.838128   \n",
            "betha_3  0.554521      NaN -0.581355 -0.106158  1.000000  0.102934 -0.085620   \n",
            "betha_4 -0.016405      NaN  0.103256 -0.731164  0.102934  1.000000 -0.257371   \n",
            "betha_5 -0.012051      NaN  0.024574  0.838128 -0.085620 -0.257371  1.000000   \n",
            "error    0.138696      NaN  0.003662  0.066958  0.106165 -0.066813  0.031378   \n",
            "locate  -0.006841      NaN -0.085052  0.113437  0.031704 -0.160005  0.030070   \n",
            "class   -0.000872      NaN -0.004702 -0.002312  0.006150 -0.008665 -0.014352   \n",
            "alpha         NaN      NaN       NaN       NaN       NaN       NaN       NaN   \n",
            "flap          NaN      NaN       NaN       NaN       NaN       NaN       NaN   \n",
            "\n",
            "            error        locate         class  alpha  flap  \n",
            "bias     0.138696 -6.840819e-03 -8.724417e-04    NaN   NaN  \n",
            "betha_0       NaN           NaN           NaN    NaN   NaN  \n",
            "betha_1  0.003662 -8.505209e-02 -4.701524e-03    NaN   NaN  \n",
            "betha_2  0.066958  1.134372e-01 -2.312486e-03    NaN   NaN  \n",
            "betha_3  0.106165  3.170437e-02  6.149915e-03    NaN   NaN  \n",
            "betha_4 -0.066813 -1.600051e-01 -8.665358e-03    NaN   NaN  \n",
            "betha_5  0.031378  3.007023e-02 -1.435221e-02    NaN   NaN  \n",
            "error    1.000000  5.165501e-02  7.787101e-01    NaN   NaN  \n",
            "locate   0.051655  1.000000e+00 -2.477011e-16    NaN   NaN  \n",
            "class    0.778710 -2.477011e-16  1.000000e+00    NaN   NaN  \n",
            "alpha         NaN           NaN           NaN    NaN   NaN  \n",
            "flap          NaN           NaN           NaN    NaN   NaN  \n"
          ]
        },
        {
          "output_type": "display_data",
          "data": {
            "text/plain": [
              "<Figure size 3000x1000 with 0 Axes>"
            ]
          },
          "metadata": {}
        },
        {
          "output_type": "display_data",
          "data": {
            "text/plain": [
              "<Figure size 3000x1000 with 0 Axes>"
            ]
          },
          "metadata": {}
        },
        {
          "output_type": "display_data",
          "data": {
            "text/plain": [
              "<Figure size 3000x1000 with 0 Axes>"
            ]
          },
          "metadata": {}
        },
        {
          "output_type": "display_data",
          "data": {
            "text/plain": [
              "<Figure size 3000x1000 with 0 Axes>"
            ]
          },
          "metadata": {}
        },
        {
          "output_type": "display_data",
          "data": {
            "text/plain": [
              "<Figure size 3000x1000 with 0 Axes>"
            ]
          },
          "metadata": {}
        },
        {
          "output_type": "display_data",
          "data": {
            "text/plain": [
              "<Figure size 3000x1000 with 0 Axes>"
            ]
          },
          "metadata": {}
        },
        {
          "output_type": "display_data",
          "data": {
            "text/plain": [
              "<Figure size 3000x1000 with 0 Axes>"
            ]
          },
          "metadata": {}
        },
        {
          "output_type": "display_data",
          "data": {
            "text/plain": [
              "<Figure size 3000x1000 with 0 Axes>"
            ]
          },
          "metadata": {}
        },
        {
          "output_type": "display_data",
          "data": {
            "text/plain": [
              "<Figure size 3000x1000 with 0 Axes>"
            ]
          },
          "metadata": {}
        },
        {
          "output_type": "display_data",
          "data": {
            "text/plain": [
              "<Figure size 3000x1000 with 0 Axes>"
            ]
          },
          "metadata": {}
        },
        {
          "output_type": "display_data",
          "data": {
            "text/plain": [
              "<Figure size 3000x1000 with 0 Axes>"
            ]
          },
          "metadata": {}
        },
        {
          "output_type": "display_data",
          "data": {
            "text/plain": [
              "<Figure size 3000x1000 with 0 Axes>"
            ]
          },
          "metadata": {}
        },
        {
          "output_type": "display_data",
          "data": {
            "text/plain": [
              "<Figure size 3000x1000 with 0 Axes>"
            ]
          },
          "metadata": {}
        },
        {
          "output_type": "display_data",
          "data": {
            "text/plain": [
              "<Figure size 3000x1000 with 0 Axes>"
            ]
          },
          "metadata": {}
        },
        {
          "output_type": "display_data",
          "data": {
            "text/plain": [
              "<Figure size 3000x1000 with 0 Axes>"
            ]
          },
          "metadata": {}
        },
        {
          "output_type": "display_data",
          "data": {
            "text/plain": [
              "<Figure size 3000x1000 with 0 Axes>"
            ]
          },
          "metadata": {}
        },
        {
          "output_type": "display_data",
          "data": {
            "text/plain": [
              "<Figure size 3000x1000 with 0 Axes>"
            ]
          },
          "metadata": {}
        },
        {
          "output_type": "display_data",
          "data": {
            "text/plain": [
              "<Figure size 3000x1000 with 0 Axes>"
            ]
          },
          "metadata": {}
        },
        {
          "output_type": "display_data",
          "data": {
            "text/plain": [
              "<Figure size 3000x1000 with 0 Axes>"
            ]
          },
          "metadata": {}
        },
        {
          "output_type": "display_data",
          "data": {
            "text/plain": [
              "<Figure size 3000x1000 with 0 Axes>"
            ]
          },
          "metadata": {}
        },
        {
          "output_type": "display_data",
          "data": {
            "text/plain": [
              "<Figure size 3000x1000 with 0 Axes>"
            ]
          },
          "metadata": {}
        },
        {
          "output_type": "display_data",
          "data": {
            "text/plain": [
              "<Figure size 3000x1000 with 0 Axes>"
            ]
          },
          "metadata": {}
        },
        {
          "output_type": "display_data",
          "data": {
            "text/plain": [
              "<Figure size 3000x1000 with 0 Axes>"
            ]
          },
          "metadata": {}
        },
        {
          "output_type": "display_data",
          "data": {
            "text/plain": [
              "<Figure size 3000x1000 with 0 Axes>"
            ]
          },
          "metadata": {}
        },
        {
          "output_type": "display_data",
          "data": {
            "text/plain": [
              "<Figure size 3000x1000 with 0 Axes>"
            ]
          },
          "metadata": {}
        },
        {
          "output_type": "display_data",
          "data": {
            "text/plain": [
              "<Figure size 3000x1000 with 0 Axes>"
            ]
          },
          "metadata": {}
        },
        {
          "output_type": "display_data",
          "data": {
            "text/plain": [
              "<Figure size 3000x1000 with 0 Axes>"
            ]
          },
          "metadata": {}
        },
        {
          "output_type": "display_data",
          "data": {
            "text/plain": [
              "<Figure size 3000x1000 with 0 Axes>"
            ]
          },
          "metadata": {}
        },
        {
          "output_type": "display_data",
          "data": {
            "text/plain": [
              "<Figure size 3000x1000 with 0 Axes>"
            ]
          },
          "metadata": {}
        },
        {
          "output_type": "display_data",
          "data": {
            "text/plain": [
              "<Figure size 3000x1000 with 0 Axes>"
            ]
          },
          "metadata": {}
        },
        {
          "output_type": "display_data",
          "data": {
            "text/plain": [
              "<Figure size 3000x1000 with 0 Axes>"
            ]
          },
          "metadata": {}
        },
        {
          "output_type": "display_data",
          "data": {
            "text/plain": [
              "<Figure size 3000x1000 with 0 Axes>"
            ]
          },
          "metadata": {}
        },
        {
          "output_type": "display_data",
          "data": {
            "text/plain": [
              "<Figure size 3000x1000 with 0 Axes>"
            ]
          },
          "metadata": {}
        },
        {
          "output_type": "display_data",
          "data": {
            "text/plain": [
              "<Figure size 3000x1000 with 0 Axes>"
            ]
          },
          "metadata": {}
        },
        {
          "output_type": "display_data",
          "data": {
            "text/plain": [
              "<Figure size 3000x1000 with 0 Axes>"
            ]
          },
          "metadata": {}
        },
        {
          "output_type": "display_data",
          "data": {
            "text/plain": [
              "<Figure size 3000x1000 with 0 Axes>"
            ]
          },
          "metadata": {}
        },
        {
          "output_type": "display_data",
          "data": {
            "text/plain": [
              "<Figure size 3000x1000 with 0 Axes>"
            ]
          },
          "metadata": {}
        },
        {
          "output_type": "display_data",
          "data": {
            "text/plain": [
              "<Figure size 3000x1000 with 0 Axes>"
            ]
          },
          "metadata": {}
        },
        {
          "output_type": "display_data",
          "data": {
            "text/plain": [
              "<Figure size 3000x1000 with 0 Axes>"
            ]
          },
          "metadata": {}
        },
        {
          "output_type": "display_data",
          "data": {
            "text/plain": [
              "<Figure size 3000x1000 with 0 Axes>"
            ]
          },
          "metadata": {}
        },
        {
          "output_type": "display_data",
          "data": {
            "text/plain": [
              "<Figure size 3000x1000 with 0 Axes>"
            ]
          },
          "metadata": {}
        },
        {
          "output_type": "display_data",
          "data": {
            "text/plain": [
              "<Figure size 3000x1000 with 0 Axes>"
            ]
          },
          "metadata": {}
        },
        {
          "output_type": "display_data",
          "data": {
            "text/plain": [
              "<Figure size 3000x1000 with 0 Axes>"
            ]
          },
          "metadata": {}
        },
        {
          "output_type": "display_data",
          "data": {
            "text/plain": [
              "<Figure size 3000x1000 with 0 Axes>"
            ]
          },
          "metadata": {}
        },
        {
          "output_type": "display_data",
          "data": {
            "text/plain": [
              "<Figure size 3000x1000 with 0 Axes>"
            ]
          },
          "metadata": {}
        },
        {
          "output_type": "display_data",
          "data": {
            "text/plain": [
              "<Figure size 3000x1000 with 0 Axes>"
            ]
          },
          "metadata": {}
        },
        {
          "output_type": "display_data",
          "data": {
            "text/plain": [
              "<Figure size 3000x1000 with 0 Axes>"
            ]
          },
          "metadata": {}
        },
        {
          "output_type": "display_data",
          "data": {
            "text/plain": [
              "<Figure size 3000x1000 with 0 Axes>"
            ]
          },
          "metadata": {}
        },
        {
          "output_type": "display_data",
          "data": {
            "text/plain": [
              "<Figure size 3000x1000 with 0 Axes>"
            ]
          },
          "metadata": {}
        },
        {
          "output_type": "display_data",
          "data": {
            "text/plain": [
              "<Figure size 3000x1000 with 0 Axes>"
            ]
          },
          "metadata": {}
        },
        {
          "output_type": "display_data",
          "data": {
            "text/plain": [
              "<Figure size 3000x1000 with 0 Axes>"
            ]
          },
          "metadata": {}
        },
        {
          "output_type": "display_data",
          "data": {
            "text/plain": [
              "<Figure size 3000x1000 with 0 Axes>"
            ]
          },
          "metadata": {}
        },
        {
          "output_type": "display_data",
          "data": {
            "text/plain": [
              "<Figure size 3000x1000 with 0 Axes>"
            ]
          },
          "metadata": {}
        },
        {
          "output_type": "display_data",
          "data": {
            "text/plain": [
              "<Figure size 3000x1000 with 0 Axes>"
            ]
          },
          "metadata": {}
        },
        {
          "output_type": "display_data",
          "data": {
            "text/plain": [
              "<Figure size 3000x1000 with 0 Axes>"
            ]
          },
          "metadata": {}
        },
        {
          "output_type": "display_data",
          "data": {
            "text/plain": [
              "<Figure size 3000x1000 with 0 Axes>"
            ]
          },
          "metadata": {}
        },
        {
          "output_type": "display_data",
          "data": {
            "text/plain": [
              "<Figure size 3000x1000 with 0 Axes>"
            ]
          },
          "metadata": {}
        },
        {
          "output_type": "display_data",
          "data": {
            "text/plain": [
              "<Figure size 3000x1000 with 0 Axes>"
            ]
          },
          "metadata": {}
        },
        {
          "output_type": "display_data",
          "data": {
            "text/plain": [
              "<Figure size 3000x1000 with 0 Axes>"
            ]
          },
          "metadata": {}
        },
        {
          "output_type": "display_data",
          "data": {
            "text/plain": [
              "<Figure size 3000x1000 with 0 Axes>"
            ]
          },
          "metadata": {}
        },
        {
          "output_type": "display_data",
          "data": {
            "text/plain": [
              "<Figure size 3000x1000 with 0 Axes>"
            ]
          },
          "metadata": {}
        },
        {
          "output_type": "display_data",
          "data": {
            "text/plain": [
              "<Figure size 3000x1000 with 0 Axes>"
            ]
          },
          "metadata": {}
        },
        {
          "output_type": "display_data",
          "data": {
            "text/plain": [
              "<Figure size 3000x1000 with 0 Axes>"
            ]
          },
          "metadata": {}
        },
        {
          "output_type": "display_data",
          "data": {
            "text/plain": [
              "<Figure size 3000x1000 with 0 Axes>"
            ]
          },
          "metadata": {}
        },
        {
          "output_type": "display_data",
          "data": {
            "text/plain": [
              "<Figure size 3000x1000 with 0 Axes>"
            ]
          },
          "metadata": {}
        },
        {
          "output_type": "display_data",
          "data": {
            "text/plain": [
              "<Figure size 3000x1000 with 0 Axes>"
            ]
          },
          "metadata": {}
        },
        {
          "output_type": "display_data",
          "data": {
            "text/plain": [
              "<Figure size 3000x1000 with 0 Axes>"
            ]
          },
          "metadata": {}
        },
        {
          "output_type": "display_data",
          "data": {
            "text/plain": [
              "<Figure size 3000x1000 with 0 Axes>"
            ]
          },
          "metadata": {}
        },
        {
          "output_type": "display_data",
          "data": {
            "text/plain": [
              "<Figure size 3000x1000 with 0 Axes>"
            ]
          },
          "metadata": {}
        },
        {
          "output_type": "display_data",
          "data": {
            "text/plain": [
              "<Figure size 3000x1000 with 0 Axes>"
            ]
          },
          "metadata": {}
        },
        {
          "output_type": "display_data",
          "data": {
            "text/plain": [
              "<Figure size 3000x1000 with 0 Axes>"
            ]
          },
          "metadata": {}
        },
        {
          "output_type": "display_data",
          "data": {
            "text/plain": [
              "<Figure size 3000x1000 with 0 Axes>"
            ]
          },
          "metadata": {}
        },
        {
          "output_type": "display_data",
          "data": {
            "text/plain": [
              "<Figure size 3000x1000 with 0 Axes>"
            ]
          },
          "metadata": {}
        },
        {
          "output_type": "display_data",
          "data": {
            "text/plain": [
              "<Figure size 3000x1000 with 0 Axes>"
            ]
          },
          "metadata": {}
        },
        {
          "output_type": "display_data",
          "data": {
            "text/plain": [
              "<Figure size 3000x1000 with 0 Axes>"
            ]
          },
          "metadata": {}
        },
        {
          "output_type": "display_data",
          "data": {
            "text/plain": [
              "<Figure size 3000x1000 with 0 Axes>"
            ]
          },
          "metadata": {}
        },
        {
          "output_type": "display_data",
          "data": {
            "text/plain": [
              "<Figure size 3000x1000 with 0 Axes>"
            ]
          },
          "metadata": {}
        },
        {
          "output_type": "display_data",
          "data": {
            "text/plain": [
              "<Figure size 3000x1000 with 0 Axes>"
            ]
          },
          "metadata": {}
        },
        {
          "output_type": "display_data",
          "data": {
            "text/plain": [
              "<Figure size 3000x1000 with 0 Axes>"
            ]
          },
          "metadata": {}
        },
        {
          "output_type": "display_data",
          "data": {
            "text/plain": [
              "<Figure size 3000x1000 with 0 Axes>"
            ]
          },
          "metadata": {}
        },
        {
          "output_type": "display_data",
          "data": {
            "text/plain": [
              "<Figure size 3000x1000 with 0 Axes>"
            ]
          },
          "metadata": {}
        },
        {
          "output_type": "display_data",
          "data": {
            "text/plain": [
              "<Figure size 3000x1000 with 0 Axes>"
            ]
          },
          "metadata": {}
        },
        {
          "output_type": "display_data",
          "data": {
            "text/plain": [
              "<Figure size 3000x1000 with 0 Axes>"
            ]
          },
          "metadata": {}
        },
        {
          "output_type": "display_data",
          "data": {
            "text/plain": [
              "<Figure size 3000x1000 with 0 Axes>"
            ]
          },
          "metadata": {}
        },
        {
          "output_type": "display_data",
          "data": {
            "text/plain": [
              "<Figure size 3000x1000 with 0 Axes>"
            ]
          },
          "metadata": {}
        },
        {
          "output_type": "display_data",
          "data": {
            "text/plain": [
              "<Figure size 3000x1000 with 0 Axes>"
            ]
          },
          "metadata": {}
        },
        {
          "output_type": "display_data",
          "data": {
            "text/plain": [
              "<Figure size 3000x1000 with 0 Axes>"
            ]
          },
          "metadata": {}
        },
        {
          "output_type": "display_data",
          "data": {
            "text/plain": [
              "<Figure size 3000x1000 with 0 Axes>"
            ]
          },
          "metadata": {}
        },
        {
          "output_type": "display_data",
          "data": {
            "text/plain": [
              "<Figure size 3000x1000 with 0 Axes>"
            ]
          },
          "metadata": {}
        },
        {
          "output_type": "display_data",
          "data": {
            "text/plain": [
              "<Figure size 3000x1000 with 0 Axes>"
            ]
          },
          "metadata": {}
        },
        {
          "output_type": "display_data",
          "data": {
            "text/plain": [
              "<Figure size 1000x1000 with 2 Axes>"
            ],
            "image/png": "[encoded data removed]"
          },
          "metadata": {}
        },
        {
          "output_type": "stream",
          "name": "stdout",
          "text": [
            "Epoch 1/100\n"
          ]
        },
        {
          "output_type": "stream",
          "name": "stderr",
          "text": [
            "/usr/local/lib/python3.10/dist-packages/keras/src/layers/core/dense.py:87: UserWarning: Do not pass an `input_shape`/`input_dim` argument to a layer. When using Sequential models, prefer using an `Input(shape)` object as the first layer in the model instead.\n",
            "  super().__init__(activity_regularizer=activity_regularizer, **kwargs)\n"
          ]
        },
        {
          "output_type": "stream",
          "name": "stdout",
          "text": [
            "\u001b[1m5/5\u001b[0m \u001b[32m━━━━━━━━━━━━━━━━━━━━\u001b[0m\u001b[37m\u001b[0m \u001b[1m2s\u001b[0m 58ms/step - acc: 0.3064 - loss: 1.6356 - val_acc: 0.3492 - val_loss: 1.2462\n",
            "Epoch 2/100\n",
            "\u001b[1m5/5\u001b[0m \u001b[32m━━━━━━━━━━━━━━━━━━━━\u001b[0m\u001b[37m\u001b[0m \u001b[1m0s\u001b[0m 13ms/step - acc: 0.2517 - loss: 1.5445 - val_acc: 0.3228 - val_loss: 1.1979\n",
            "Epoch 3/100\n",
            "\u001b[1m5/5\u001b[0m \u001b[32m━━━━━━━━━━━━━━━━━━━━\u001b[0m\u001b[37m\u001b[0m \u001b[1m0s\u001b[0m 14ms/step - acc: 0.4240 - loss: 1.2976 - val_acc: 0.3280 - val_loss: 1.1680\n",
            "Epoch 4/100\n",
            "\u001b[1m5/5\u001b[0m \u001b[32m━━━━━━━━━━━━━━━━━━━━\u001b[0m\u001b[37m\u001b[0m \u001b[1m0s\u001b[0m 11ms/step - acc: 0.3624 - loss: 1.2765 - val_acc: 0.3280 - val_loss: 1.1452\n",
            "Epoch 5/100\n",
            "\u001b[1m5/5\u001b[0m \u001b[32m━━━━━━━━━━━━━━━━━━━━\u001b[0m\u001b[37m\u001b[0m \u001b[1m0s\u001b[0m 14ms/step - acc: 0.3526 - loss: 1.3407 - val_acc: 0.3333 - val_loss: 1.1213\n",
            "Epoch 6/100\n",
            "\u001b[1m5/5\u001b[0m \u001b[32m━━━━━━━━━━━━━━━━━━━━\u001b[0m\u001b[37m\u001b[0m \u001b[1m0s\u001b[0m 11ms/step - acc: 0.4032 - loss: 1.1590 - val_acc: 0.3439 - val_loss: 1.0954\n",
            "Epoch 7/100\n",
            "\u001b[1m5/5\u001b[0m \u001b[32m━━━━━━━━━━━━━━━━━━━━\u001b[0m\u001b[37m\u001b[0m \u001b[1m0s\u001b[0m 13ms/step - acc: 0.4185 - loss: 1.0824 - val_acc: 0.3968 - val_loss: 1.0652\n",
            "Epoch 8/100\n",
            "\u001b[1m5/5\u001b[0m \u001b[32m━━━━━━━━━━━━━━━━━━━━\u001b[0m\u001b[37m\u001b[0m \u001b[1m0s\u001b[0m 15ms/step - acc: 0.3880 - loss: 1.0966 - val_acc: 0.4603 - val_loss: 1.0313\n",
            "Epoch 9/100\n",
            "\u001b[1m5/5\u001b[0m \u001b[32m━━━━━━━━━━━━━━━━━━━━\u001b[0m\u001b[37m\u001b[0m \u001b[1m0s\u001b[0m 12ms/step - acc: 0.3567 - loss: 1.1130 - val_acc: 0.5238 - val_loss: 1.0059\n",
            "Epoch 10/100\n",
            "\u001b[1m5/5\u001b[0m \u001b[32m━━━━━━━━━━━━━━━━━━━━\u001b[0m\u001b[37m\u001b[0m \u001b[1m0s\u001b[0m 14ms/step - acc: 0.5333 - loss: 1.0596 - val_acc: 0.5503 - val_loss: 0.9836\n",
            "Epoch 11/100\n",
            "\u001b[1m5/5\u001b[0m \u001b[32m━━━━━━━━━━━━━━━━━━━━\u001b[0m\u001b[37m\u001b[0m \u001b[1m0s\u001b[0m 12ms/step - acc: 0.4163 - loss: 1.0308 - val_acc: 0.5714 - val_loss: 0.9680\n",
            "Epoch 12/100\n",
            "\u001b[1m5/5\u001b[0m \u001b[32m━━━━━━━━━━━━━━━━━━━━\u001b[0m\u001b[37m\u001b[0m \u001b[1m0s\u001b[0m 14ms/step - acc: 0.4212 - loss: 1.0318 - val_acc: 0.5873 - val_loss: 0.9485\n",
            "Epoch 13/100\n",
            "\u001b[1m5/5\u001b[0m \u001b[32m━━━━━━━━━━━━━━━━━━━━\u001b[0m\u001b[37m\u001b[0m \u001b[1m0s\u001b[0m 12ms/step - acc: 0.4218 - loss: 1.0633 - val_acc: 0.6138 - val_loss: 0.9235\n",
            "Epoch 14/100\n",
            "\u001b[1m5/5\u001b[0m \u001b[32m━━━━━━━━━━━━━━━━━━━━\u001b[0m\u001b[37m\u001b[0m \u001b[1m0s\u001b[0m 13ms/step - acc: 0.5175 - loss: 0.9088 - val_acc: 0.6243 - val_loss: 0.9022\n",
            "Epoch 15/100\n",
            "\u001b[1m5/5\u001b[0m \u001b[32m━━━━━━━━━━━━━━━━━━━━\u001b[0m\u001b[37m\u001b[0m \u001b[1m0s\u001b[0m 15ms/step - acc: 0.4488 - loss: 1.0226 - val_acc: 0.6402 - val_loss: 0.8869\n",
            "Epoch 16/100\n",
            "\u001b[1m5/5\u001b[0m \u001b[32m━━━━━━━━━━━━━━━━━━━━\u001b[0m\u001b[37m\u001b[0m \u001b[1m0s\u001b[0m 14ms/step - acc: 0.4426 - loss: 0.9950 - val_acc: 0.6455 - val_loss: 0.8709\n",
            "Epoch 17/100\n",
            "\u001b[1m5/5\u001b[0m \u001b[32m━━━━━━━━━━━━━━━━━━━━\u001b[0m\u001b[37m\u001b[0m \u001b[1m0s\u001b[0m 13ms/step - acc: 0.4675 - loss: 0.9401 - val_acc: 0.6455 - val_loss: 0.8613\n",
            "Epoch 18/100\n",
            "\u001b[1m5/5\u001b[0m \u001b[32m━━━━━━━━━━━━━━━━━━━━\u001b[0m\u001b[37m\u001b[0m \u001b[1m0s\u001b[0m 14ms/step - acc: 0.4143 - loss: 0.9043 - val_acc: 0.6455 - val_loss: 0.8556\n",
            "Epoch 19/100\n",
            "\u001b[1m5/5\u001b[0m \u001b[32m━━━━━━━━━━━━━━━━━━━━\u001b[0m\u001b[37m\u001b[0m \u001b[1m0s\u001b[0m 11ms/step - acc: 0.4612 - loss: 0.9009 - val_acc: 0.6455 - val_loss: 0.8564\n",
            "Epoch 20/100\n",
            "\u001b[1m5/5\u001b[0m \u001b[32m━━━━━━━━━━━━━━━━━━━━\u001b[0m\u001b[37m\u001b[0m \u001b[1m0s\u001b[0m 11ms/step - acc: 0.5019 - loss: 0.9503 - val_acc: 0.6349 - val_loss: 0.8554\n",
            "Epoch 21/100\n",
            "\u001b[1m5/5\u001b[0m \u001b[32m━━━━━━━━━━━━━━━━━━━━\u001b[0m\u001b[37m\u001b[0m \u001b[1m0s\u001b[0m 14ms/step - acc: 0.4896 - loss: 0.9229 - val_acc: 0.6243 - val_loss: 0.8611\n",
            "Epoch 22/100\n",
            "\u001b[1m5/5\u001b[0m \u001b[32m━━━━━━━━━━━━━━━━━━━━\u001b[0m\u001b[37m\u001b[0m \u001b[1m0s\u001b[0m 11ms/step - acc: 0.5513 - loss: 0.8260 - val_acc: 0.6243 - val_loss: 0.8601\n",
            "Epoch 23/100\n",
            "\u001b[1m5/5\u001b[0m \u001b[32m━━━━━━━━━━━━━━━━━━━━\u001b[0m\u001b[37m\u001b[0m \u001b[1m0s\u001b[0m 11ms/step - acc: 0.4681 - loss: 0.9550 - val_acc: 0.6190 - val_loss: 0.8574\n",
            "Epoch 24/100\n",
            "\u001b[1m5/5\u001b[0m \u001b[32m━━━━━━━━━━━━━━━━━━━━\u001b[0m\u001b[37m\u001b[0m \u001b[1m0s\u001b[0m 14ms/step - acc: 0.6379 - loss: 0.7550 - val_acc: 0.6138 - val_loss: 0.8570\n",
            "Epoch 25/100\n",
            "\u001b[1m5/5\u001b[0m \u001b[32m━━━━━━━━━━━━━━━━━━━━\u001b[0m\u001b[37m\u001b[0m \u001b[1m0s\u001b[0m 14ms/step - acc: 0.5782 - loss: 0.8843 - val_acc: 0.6138 - val_loss: 0.8566\n",
            "Epoch 26/100\n",
            "\u001b[1m5/5\u001b[0m \u001b[32m━━━━━━━━━━━━━━━━━━━━\u001b[0m\u001b[37m\u001b[0m \u001b[1m0s\u001b[0m 18ms/step - acc: 0.5581 - loss: 0.8054 - val_acc: 0.6138 - val_loss: 0.8476\n",
            "Epoch 27/100\n",
            "\u001b[1m5/5\u001b[0m \u001b[32m━━━━━━━━━━━━━━━━━━━━\u001b[0m\u001b[37m\u001b[0m \u001b[1m0s\u001b[0m 17ms/step - acc: 0.5808 - loss: 0.8473 - val_acc: 0.6138 - val_loss: 0.8412\n",
            "Epoch 28/100\n",
            "\u001b[1m5/5\u001b[0m \u001b[32m━━━━━━━━━━━━━━━━━━━━\u001b[0m\u001b[37m\u001b[0m \u001b[1m0s\u001b[0m 17ms/step - acc: 0.5582 - loss: 0.8442 - val_acc: 0.6138 - val_loss: 0.8367\n",
            "Epoch 29/100\n",
            "\u001b[1m5/5\u001b[0m \u001b[32m━━━━━━━━━━━━━━━━━━━━\u001b[0m\u001b[37m\u001b[0m \u001b[1m0s\u001b[0m 17ms/step - acc: 0.6979 - loss: 0.7658 - val_acc: 0.6138 - val_loss: 0.8300\n",
            "Epoch 30/100\n",
            "\u001b[1m5/5\u001b[0m \u001b[32m━━━━━━━━━━━━━━━━━━━━\u001b[0m\u001b[37m\u001b[0m \u001b[1m0s\u001b[0m 17ms/step - acc: 0.5186 - loss: 0.8742 - val_acc: 0.6243 - val_loss: 0.8203\n",
            "Epoch 31/100\n",
            "\u001b[1m5/5\u001b[0m \u001b[32m━━━━━━━━━━━━━━━━━━━━\u001b[0m\u001b[37m\u001b[0m \u001b[1m0s\u001b[0m 27ms/step - acc: 0.5151 - loss: 0.8547 - val_acc: 0.6243 - val_loss: 0.8100\n",
            "Epoch 32/100\n",
            "\u001b[1m5/5\u001b[0m \u001b[32m━━━━━━━━━━━━━━━━━━━━\u001b[0m\u001b[37m\u001b[0m \u001b[1m0s\u001b[0m 14ms/step - acc: 0.5311 - loss: 0.8830 - val_acc: 0.6296 - val_loss: 0.8023\n",
            "Epoch 33/100\n",
            "\u001b[1m5/5\u001b[0m \u001b[32m━━━━━━━━━━━━━━━━━━━━\u001b[0m\u001b[37m\u001b[0m \u001b[1m0s\u001b[0m 21ms/step - acc: 0.5263 - loss: 0.8635 - val_acc: 0.6296 - val_loss: 0.8010\n",
            "Epoch 34/100\n",
            "\u001b[1m5/5\u001b[0m \u001b[32m━━━━━━━━━━━━━━━━━━━━\u001b[0m\u001b[37m\u001b[0m \u001b[1m0s\u001b[0m 28ms/step - acc: 0.6605 - loss: 0.7404 - val_acc: 0.6296 - val_loss: 0.7991\n",
            "Epoch 35/100\n",
            "\u001b[1m5/5\u001b[0m \u001b[32m━━━━━━━━━━━━━━━━━━━━\u001b[0m\u001b[37m\u001b[0m \u001b[1m0s\u001b[0m 27ms/step - acc: 0.6385 - loss: 0.7132 - val_acc: 0.6243 - val_loss: 0.7959\n",
            "Epoch 36/100\n",
            "\u001b[1m5/5\u001b[0m \u001b[32m━━━━━━━━━━━━━━━━━━━━\u001b[0m\u001b[37m\u001b[0m \u001b[1m0s\u001b[0m 16ms/step - acc: 0.5697 - loss: 0.7986 - val_acc: 0.6243 - val_loss: 0.7925\n",
            "Epoch 37/100\n",
            "\u001b[1m5/5\u001b[0m \u001b[32m━━━━━━━━━━━━━━━━━━━━\u001b[0m\u001b[37m\u001b[0m \u001b[1m0s\u001b[0m 17ms/step - acc: 0.4797 - loss: 0.8651 - val_acc: 0.6243 - val_loss: 0.7915\n",
            "Epoch 38/100\n",
            "\u001b[1m5/5\u001b[0m \u001b[32m━━━━━━━━━━━━━━━━━━━━\u001b[0m\u001b[37m\u001b[0m \u001b[1m0s\u001b[0m 19ms/step - acc: 0.5704 - loss: 0.7592 - val_acc: 0.6243 - val_loss: 0.7876\n",
            "Epoch 39/100\n",
            "\u001b[1m5/5\u001b[0m \u001b[32m━━━━━━━━━━━━━━━━━━━━\u001b[0m\u001b[37m\u001b[0m \u001b[1m0s\u001b[0m 15ms/step - acc: 0.5746 - loss: 0.7918 - val_acc: 0.6243 - val_loss: 0.7845\n",
            "Epoch 40/100\n",
            "\u001b[1m5/5\u001b[0m \u001b[32m━━━━━━━━━━━━━━━━━━━━\u001b[0m\u001b[37m\u001b[0m \u001b[1m0s\u001b[0m 21ms/step - acc: 0.5629 - loss: 0.7812 - val_acc: 0.6243 - val_loss: 0.7785\n",
            "Epoch 41/100\n",
            "\u001b[1m5/5\u001b[0m \u001b[32m━━━━━━━━━━━━━━━━━━━━\u001b[0m\u001b[37m\u001b[0m \u001b[1m0s\u001b[0m 18ms/step - acc: 0.5345 - loss: 0.8046 - val_acc: 0.6243 - val_loss: 0.7736\n",
            "Epoch 42/100\n",
            "\u001b[1m5/5\u001b[0m \u001b[32m━━━━━━━━━━━━━━━━━━━━\u001b[0m\u001b[37m\u001b[0m \u001b[1m0s\u001b[0m 17ms/step - acc: 0.6223 - loss: 0.7412 - val_acc: 0.6243 - val_loss: 0.7671\n",
            "Epoch 43/100\n",
            "\u001b[1m5/5\u001b[0m \u001b[32m━━━━━━━━━━━━━━━━━━━━\u001b[0m\u001b[37m\u001b[0m \u001b[1m0s\u001b[0m 17ms/step - acc: 0.5657 - loss: 0.8090 - val_acc: 0.6296 - val_loss: 0.7593\n",
            "Epoch 44/100\n",
            "\u001b[1m5/5\u001b[0m \u001b[32m━━━━━━━━━━━━━━━━━━━━\u001b[0m\u001b[37m\u001b[0m \u001b[1m0s\u001b[0m 18ms/step - acc: 0.5746 - loss: 0.8209 - val_acc: 0.6402 - val_loss: 0.7508\n",
            "Epoch 45/100\n",
            "\u001b[1m5/5\u001b[0m \u001b[32m━━━━━━━━━━━━━━━━━━━━\u001b[0m\u001b[37m\u001b[0m \u001b[1m0s\u001b[0m 28ms/step - acc: 0.6068 - loss: 0.7350 - val_acc: 0.6402 - val_loss: 0.7470\n",
            "Epoch 46/100\n",
            "\u001b[1m5/5\u001b[0m \u001b[32m━━━━━━━━━━━━━━━━━━━━\u001b[0m\u001b[37m\u001b[0m \u001b[1m0s\u001b[0m 17ms/step - acc: 0.6147 - loss: 0.7727 - val_acc: 0.6455 - val_loss: 0.7419\n",
            "Epoch 47/100\n",
            "\u001b[1m5/5\u001b[0m \u001b[32m━━━━━━━━━━━━━━━━━━━━\u001b[0m\u001b[37m\u001b[0m \u001b[1m0s\u001b[0m 16ms/step - acc: 0.5568 - loss: 0.7977 - val_acc: 0.6508 - val_loss: 0.7351\n",
            "Epoch 48/100\n",
            "\u001b[1m5/5\u001b[0m \u001b[32m━━━━━━━━━━━━━━━━━━━━\u001b[0m\u001b[37m\u001b[0m \u001b[1m0s\u001b[0m 31ms/step - acc: 0.6223 - loss: 0.7075 - val_acc: 0.6508 - val_loss: 0.7304\n",
            "Epoch 49/100\n",
            "\u001b[1m5/5\u001b[0m \u001b[32m━━━━━━━━━━━━━━━━━━━━\u001b[0m\u001b[37m\u001b[0m \u001b[1m0s\u001b[0m 20ms/step - acc: 0.6385 - loss: 0.7929 - val_acc: 0.6508 - val_loss: 0.7283\n",
            "Epoch 50/100\n",
            "\u001b[1m5/5\u001b[0m \u001b[32m━━━━━━━━━━━━━━━━━━━━\u001b[0m\u001b[37m\u001b[0m \u001b[1m0s\u001b[0m 18ms/step - acc: 0.5615 - loss: 0.8210 - val_acc: 0.6508 - val_loss: 0.7236\n",
            "Epoch 51/100\n",
            "\u001b[1m5/5\u001b[0m \u001b[32m━━━━━━━━━━━━━━━━━━━━\u001b[0m\u001b[37m\u001b[0m \u001b[1m0s\u001b[0m 30ms/step - acc: 0.5595 - loss: 0.7724 - val_acc: 0.6508 - val_loss: 0.7210\n",
            "Epoch 52/100\n",
            "\u001b[1m5/5\u001b[0m \u001b[32m━━━━━━━━━━━━━━━━━━━━\u001b[0m\u001b[37m\u001b[0m \u001b[1m0s\u001b[0m 14ms/step - acc: 0.5858 - loss: 0.7410 - val_acc: 0.6508 - val_loss: 0.7212\n",
            "Epoch 53/100\n",
            "\u001b[1m5/5\u001b[0m \u001b[32m━━━━━━━━━━━━━━━━━━━━\u001b[0m\u001b[37m\u001b[0m \u001b[1m0s\u001b[0m 14ms/step - acc: 0.5782 - loss: 0.8144 - val_acc: 0.6508 - val_loss: 0.7184\n",
            "Epoch 54/100\n",
            "\u001b[1m5/5\u001b[0m \u001b[32m━━━━━━━━━━━━━━━━━━━━\u001b[0m\u001b[37m\u001b[0m \u001b[1m0s\u001b[0m 13ms/step - acc: 0.6238 - loss: 0.6942 - val_acc: 0.6508 - val_loss: 0.7143\n",
            "Epoch 55/100\n",
            "\u001b[1m5/5\u001b[0m \u001b[32m━━━━━━━━━━━━━━━━━━━━\u001b[0m\u001b[37m\u001b[0m \u001b[1m0s\u001b[0m 12ms/step - acc: 0.6694 - loss: 0.6747 - val_acc: 0.6508 - val_loss: 0.7106\n",
            "Epoch 56/100\n",
            "\u001b[1m5/5\u001b[0m \u001b[32m━━━━━━━━━━━━━━━━━━━━\u001b[0m\u001b[37m\u001b[0m \u001b[1m0s\u001b[0m 16ms/step - acc: 0.5676 - loss: 0.7721 - val_acc: 0.6508 - val_loss: 0.7054\n",
            "Epoch 57/100\n",
            "\u001b[1m5/5\u001b[0m \u001b[32m━━━━━━━━━━━━━━━━━━━━\u001b[0m\u001b[37m\u001b[0m \u001b[1m0s\u001b[0m 13ms/step - acc: 0.6322 - loss: 0.6823 - val_acc: 0.6508 - val_loss: 0.7020\n",
            "Epoch 58/100\n",
            "\u001b[1m5/5\u001b[0m \u001b[32m━━━━━━━━━━━━━━━━━━━━\u001b[0m\u001b[37m\u001b[0m \u001b[1m0s\u001b[0m 13ms/step - acc: 0.5429 - loss: 0.7518 - val_acc: 0.6402 - val_loss: 0.6984\n",
            "Epoch 59/100\n",
            "\u001b[1m5/5\u001b[0m \u001b[32m━━━━━━━━━━━━━━━━━━━━\u001b[0m\u001b[37m\u001b[0m \u001b[1m0s\u001b[0m 14ms/step - acc: 0.7013 - loss: 0.6518 - val_acc: 0.6402 - val_loss: 0.6954\n",
            "Epoch 60/100\n",
            "\u001b[1m5/5\u001b[0m \u001b[32m━━━━━━━━━━━━━━━━━━━━\u001b[0m\u001b[37m\u001b[0m \u001b[1m0s\u001b[0m 14ms/step - acc: 0.6938 - loss: 0.6268 - val_acc: 0.6402 - val_loss: 0.6934\n",
            "Epoch 61/100\n",
            "\u001b[1m5/5\u001b[0m \u001b[32m━━━━━━━━━━━━━━━━━━━━\u001b[0m\u001b[37m\u001b[0m \u001b[1m0s\u001b[0m 12ms/step - acc: 0.5005 - loss: 0.7752 - val_acc: 0.6402 - val_loss: 0.6918\n",
            "Epoch 62/100\n",
            "\u001b[1m5/5\u001b[0m \u001b[32m━━━━━━━━━━━━━━━━━━━━\u001b[0m\u001b[37m\u001b[0m \u001b[1m0s\u001b[0m 12ms/step - acc: 0.5851 - loss: 0.7611 - val_acc: 0.6402 - val_loss: 0.6889\n",
            "Epoch 63/100\n",
            "\u001b[1m5/5\u001b[0m \u001b[32m━━━━━━━━━━━━━━━━━━━━\u001b[0m\u001b[37m\u001b[0m \u001b[1m0s\u001b[0m 14ms/step - acc: 0.5962 - loss: 0.7041 - val_acc: 0.6402 - val_loss: 0.6871\n",
            "Epoch 64/100\n",
            "\u001b[1m5/5\u001b[0m \u001b[32m━━━━━━━━━━━━━━━━━━━━\u001b[0m\u001b[37m\u001b[0m \u001b[1m0s\u001b[0m 12ms/step - acc: 0.6288 - loss: 0.6850 - val_acc: 0.6508 - val_loss: 0.6841\n",
            "Epoch 65/100\n",
            "\u001b[1m5/5\u001b[0m \u001b[32m━━━━━━━━━━━━━━━━━━━━\u001b[0m\u001b[37m\u001b[0m \u001b[1m0s\u001b[0m 14ms/step - acc: 0.5851 - loss: 0.7524 - val_acc: 0.6508 - val_loss: 0.6771\n",
            "Epoch 66/100\n",
            "\u001b[1m5/5\u001b[0m \u001b[32m━━━━━━━━━━━━━━━━━━━━\u001b[0m\u001b[37m\u001b[0m \u001b[1m0s\u001b[0m 16ms/step - acc: 0.6327 - loss: 0.7990 - val_acc: 0.6508 - val_loss: 0.6733\n",
            "Epoch 67/100\n",
            "\u001b[1m5/5\u001b[0m \u001b[32m━━━━━━━━━━━━━━━━━━━━\u001b[0m\u001b[37m\u001b[0m \u001b[1m0s\u001b[0m 15ms/step - acc: 0.6169 - loss: 0.7377 - val_acc: 0.6508 - val_loss: 0.6735\n",
            "Epoch 68/100\n",
            "\u001b[1m5/5\u001b[0m \u001b[32m━━━━━━━━━━━━━━━━━━━━\u001b[0m\u001b[37m\u001b[0m \u001b[1m0s\u001b[0m 14ms/step - acc: 0.5949 - loss: 0.6946 - val_acc: 0.6508 - val_loss: 0.6796\n",
            "Epoch 69/100\n",
            "\u001b[1m5/5\u001b[0m \u001b[32m━━━━━━━━━━━━━━━━━━━━\u001b[0m\u001b[37m\u001b[0m \u001b[1m0s\u001b[0m 12ms/step - acc: 0.5586 - loss: 0.7196 - val_acc: 0.6455 - val_loss: 0.6822\n",
            "Epoch 70/100\n",
            "\u001b[1m5/5\u001b[0m \u001b[32m━━━━━━━━━━━━━━━━━━━━\u001b[0m\u001b[37m\u001b[0m \u001b[1m0s\u001b[0m 12ms/step - acc: 0.6182 - loss: 0.7095 - val_acc: 0.6402 - val_loss: 0.6855\n",
            "Epoch 71/100\n",
            "\u001b[1m5/5\u001b[0m \u001b[32m━━━━━━━━━━━━━━━━━━━━\u001b[0m\u001b[37m\u001b[0m \u001b[1m0s\u001b[0m 12ms/step - acc: 0.7144 - loss: 0.6258 - val_acc: 0.6402 - val_loss: 0.6852\n",
            "Epoch 72/100\n",
            "\u001b[1m5/5\u001b[0m \u001b[32m━━━━━━━━━━━━━━━━━━━━\u001b[0m\u001b[37m\u001b[0m \u001b[1m0s\u001b[0m 14ms/step - acc: 0.6695 - loss: 0.7032 - val_acc: 0.6349 - val_loss: 0.6839\n",
            "Epoch 73/100\n",
            "\u001b[1m5/5\u001b[0m \u001b[32m━━━━━━━━━━━━━━━━━━━━\u001b[0m\u001b[37m\u001b[0m \u001b[1m0s\u001b[0m 13ms/step - acc: 0.6714 - loss: 0.7361 - val_acc: 0.6349 - val_loss: 0.6803\n",
            "Epoch 74/100\n",
            "\u001b[1m5/5\u001b[0m \u001b[32m━━━━━━━━━━━━━━━━━━━━\u001b[0m\u001b[37m\u001b[0m \u001b[1m0s\u001b[0m 17ms/step - acc: 0.6101 - loss: 0.6598 - val_acc: 0.6402 - val_loss: 0.6757\n",
            "Epoch 75/100\n",
            "\u001b[1m5/5\u001b[0m \u001b[32m━━━━━━━━━━━━━━━━━━━━\u001b[0m\u001b[37m\u001b[0m \u001b[1m0s\u001b[0m 11ms/step - acc: 0.6499 - loss: 0.6912 - val_acc: 0.6402 - val_loss: 0.6718\n",
            "Epoch 76/100\n",
            "\u001b[1m5/5\u001b[0m \u001b[32m━━━━━━━━━━━━━━━━━━━━\u001b[0m\u001b[37m\u001b[0m \u001b[1m0s\u001b[0m 14ms/step - acc: 0.6936 - loss: 0.6757 - val_acc: 0.6402 - val_loss: 0.6669\n",
            "Epoch 77/100\n",
            "\u001b[1m5/5\u001b[0m \u001b[32m━━━━━━━━━━━━━━━━━━━━\u001b[0m\u001b[37m\u001b[0m \u001b[1m0s\u001b[0m 12ms/step - acc: 0.6355 - loss: 0.7199 - val_acc: 0.6402 - val_loss: 0.6630\n",
            "Epoch 78/100\n",
            "\u001b[1m5/5\u001b[0m \u001b[32m━━━━━━━━━━━━━━━━━━━━\u001b[0m\u001b[37m\u001b[0m \u001b[1m0s\u001b[0m 12ms/step - acc: 0.6038 - loss: 0.7290 - val_acc: 0.6402 - val_loss: 0.6629\n",
            "Epoch 79/100\n",
            "\u001b[1m5/5\u001b[0m \u001b[32m━━━━━━━━━━━━━━━━━━━━\u001b[0m\u001b[37m\u001b[0m \u001b[1m0s\u001b[0m 14ms/step - acc: 0.5726 - loss: 0.7020 - val_acc: 0.6402 - val_loss: 0.6616\n",
            "Epoch 80/100\n",
            "\u001b[1m5/5\u001b[0m \u001b[32m━━━━━━━━━━━━━━━━━━━━\u001b[0m\u001b[37m\u001b[0m \u001b[1m0s\u001b[0m 13ms/step - acc: 0.6162 - loss: 0.6436 - val_acc: 0.6402 - val_loss: 0.6611\n",
            "Epoch 81/100\n",
            "\u001b[1m5/5\u001b[0m \u001b[32m━━━━━━━━━━━━━━━━━━━━\u001b[0m\u001b[37m\u001b[0m \u001b[1m0s\u001b[0m 14ms/step - acc: 0.6634 - loss: 0.5855 - val_acc: 0.6402 - val_loss: 0.6620\n",
            "Epoch 82/100\n",
            "\u001b[1m5/5\u001b[0m \u001b[32m━━━━━━━━━━━━━━━━━━━━\u001b[0m\u001b[37m\u001b[0m \u001b[1m0s\u001b[0m 13ms/step - acc: 0.6260 - loss: 0.7049 - val_acc: 0.6296 - val_loss: 0.6623\n",
            "Epoch 83/100\n",
            "\u001b[1m5/5\u001b[0m \u001b[32m━━━━━━━━━━━━━━━━━━━━\u001b[0m\u001b[37m\u001b[0m \u001b[1m0s\u001b[0m 16ms/step - acc: 0.5758 - loss: 0.7318 - val_acc: 0.6296 - val_loss: 0.6606\n",
            "Epoch 84/100\n",
            "\u001b[1m5/5\u001b[0m \u001b[32m━━━━━━━━━━━━━━━━━━━━\u001b[0m\u001b[37m\u001b[0m \u001b[1m0s\u001b[0m 14ms/step - acc: 0.6106 - loss: 0.6672 - val_acc: 0.6402 - val_loss: 0.6563\n",
            "Epoch 85/100\n",
            "\u001b[1m5/5\u001b[0m \u001b[32m━━━━━━━━━━━━━━━━━━━━\u001b[0m\u001b[37m\u001b[0m \u001b[1m0s\u001b[0m 12ms/step - acc: 0.7497 - loss: 0.6177 - val_acc: 0.6402 - val_loss: 0.6530\n",
            "Epoch 86/100\n",
            "\u001b[1m5/5\u001b[0m \u001b[32m━━━━━━━━━━━━━━━━━━━━\u001b[0m\u001b[37m\u001b[0m \u001b[1m0s\u001b[0m 13ms/step - acc: 0.5766 - loss: 0.6845 - val_acc: 0.6402 - val_loss: 0.6499\n",
            "Epoch 87/100\n",
            "\u001b[1m5/5\u001b[0m \u001b[32m━━━━━━━━━━━━━━━━━━━━\u001b[0m\u001b[37m\u001b[0m \u001b[1m0s\u001b[0m 12ms/step - acc: 0.6308 - loss: 0.6764 - val_acc: 0.6402 - val_loss: 0.6468\n",
            "Epoch 88/100\n",
            "\u001b[1m5/5\u001b[0m \u001b[32m━━━━━━━━━━━━━━━━━━━━\u001b[0m\u001b[37m\u001b[0m \u001b[1m0s\u001b[0m 15ms/step - acc: 0.7102 - loss: 0.6072 - val_acc: 0.6402 - val_loss: 0.6434\n",
            "Epoch 89/100\n",
            "\u001b[1m5/5\u001b[0m \u001b[32m━━━━━━━━━━━━━━━━━━━━\u001b[0m\u001b[37m\u001b[0m \u001b[1m0s\u001b[0m 12ms/step - acc: 0.6230 - loss: 0.6487 - val_acc: 0.6455 - val_loss: 0.6397\n",
            "Epoch 90/100\n",
            "\u001b[1m5/5\u001b[0m \u001b[32m━━━━━━━━━━━━━━━━━━━━\u001b[0m\u001b[37m\u001b[0m \u001b[1m0s\u001b[0m 14ms/step - acc: 0.6943 - loss: 0.5824 - val_acc: 0.6455 - val_loss: 0.6361\n",
            "Epoch 91/100\n",
            "\u001b[1m5/5\u001b[0m \u001b[32m━━━━━━━━━━━━━━━━━━━━\u001b[0m\u001b[37m\u001b[0m \u001b[1m0s\u001b[0m 15ms/step - acc: 0.5787 - loss: 0.6972 - val_acc: 0.6455 - val_loss: 0.6339\n",
            "Epoch 92/100\n",
            "\u001b[1m5/5\u001b[0m \u001b[32m━━━━━━━━━━━━━━━━━━━━\u001b[0m\u001b[37m\u001b[0m \u001b[1m0s\u001b[0m 12ms/step - acc: 0.6467 - loss: 0.6398 - val_acc: 0.6455 - val_loss: 0.6331\n",
            "Epoch 93/100\n",
            "\u001b[1m5/5\u001b[0m \u001b[32m━━━━━━━━━━━━━━━━━━━━\u001b[0m\u001b[37m\u001b[0m \u001b[1m0s\u001b[0m 14ms/step - acc: 0.5878 - loss: 0.6810 - val_acc: 0.6455 - val_loss: 0.6313\n",
            "Epoch 94/100\n",
            "\u001b[1m5/5\u001b[0m \u001b[32m━━━━━━━━━━━━━━━━━━━━\u001b[0m\u001b[37m\u001b[0m \u001b[1m0s\u001b[0m 14ms/step - acc: 0.7068 - loss: 0.5588 - val_acc: 0.6455 - val_loss: 0.6272\n",
            "Epoch 95/100\n",
            "\u001b[1m5/5\u001b[0m \u001b[32m━━━━━━━━━━━━━━━━━━━━\u001b[0m\u001b[37m\u001b[0m \u001b[1m0s\u001b[0m 11ms/step - acc: 0.6818 - loss: 0.5836 - val_acc: 0.6455 - val_loss: 0.6250\n",
            "Epoch 96/100\n",
            "\u001b[1m5/5\u001b[0m \u001b[32m━━━━━━━━━━━━━━━━━━━━\u001b[0m\u001b[37m\u001b[0m \u001b[1m0s\u001b[0m 15ms/step - acc: 0.6889 - loss: 0.5901 - val_acc: 0.6455 - val_loss: 0.6236\n",
            "Epoch 97/100\n",
            "\u001b[1m5/5\u001b[0m \u001b[32m━━━━━━━━━━━━━━━━━━━━\u001b[0m\u001b[37m\u001b[0m \u001b[1m0s\u001b[0m 14ms/step - acc: 0.6938 - loss: 0.5870 - val_acc: 0.6455 - val_loss: 0.6189\n",
            "Epoch 98/100\n",
            "\u001b[1m5/5\u001b[0m \u001b[32m━━━━━━━━━━━━━━━━━━━━\u001b[0m\u001b[37m\u001b[0m \u001b[1m0s\u001b[0m 11ms/step - acc: 0.6257 - loss: 0.6436 - val_acc: 0.6508 - val_loss: 0.6130\n",
            "Epoch 99/100\n",
            "\u001b[1m5/5\u001b[0m \u001b[32m━━━━━━━━━━━━━━━━━━━━\u001b[0m\u001b[37m\u001b[0m \u001b[1m0s\u001b[0m 17ms/step - acc: 0.7179 - loss: 0.6472 - val_acc: 0.6508 - val_loss: 0.6089\n",
            "Epoch 100/100\n",
            "\u001b[1m5/5\u001b[0m \u001b[32m━━━━━━━━━━━━━━━━━━━━\u001b[0m\u001b[37m\u001b[0m \u001b[1m0s\u001b[0m 14ms/step - acc: 0.6092 - loss: 0.6199 - val_acc: 0.6508 - val_loss: 0.6060\n"
          ]
        }
      ]
    },
    {
      "cell_type": "code",
      "source": [
        "total_simulation"
      ],
      "metadata": {
        "colab": {
          "base_uri": "https://localhost:8080/"
        },
        "id": "az18KBOTXkiA",
        "outputId": "5adad0b6-8f7f-45b8-d7f4-7a87745cc904"
      },
      "execution_count": 20,
      "outputs": [
        {
          "output_type": "execute_result",
          "data": {
            "text/plain": [
              "{'bias_correlation': [nan, nan, nan, nan, nan, nan],\n",
              " 'betha_1_correlation': [nan, nan, nan, nan, nan, nan],\n",
              " 'betha_2_correlation': [nan, nan, nan, nan, nan, nan],\n",
              " 'betha_3_correlation': [nan, nan, nan, nan, nan, nan],\n",
              " 'betha_4_correlation': [nan, nan, nan, nan, nan, nan],\n",
              " 'betha_5_correlation': [nan, nan, nan, nan, nan, nan],\n",
              " 'alpha': [0.001, 0.001, 0.001, 0.001, 0.001, 0.001],\n",
              " 'accuracy_nav': [0.6613756613756614, 0.5925925925925926],\n",
              " 'accuracy_svm_svc': [],\n",
              " 'accuracy_random_forest': [0.6402116402116402, 0.6190476190476191],\n",
              " 'accuracy_extra': [],\n",
              " 'accuraacy_ann': []}"
            ]
          },
          "metadata": {},
          "execution_count": 20
        }
      ]
    },
    {
      "cell_type": "code",
      "source": [],
      "metadata": {
        "id": "io-Z8WsZrqM2"
      },
      "execution_count": null,
      "outputs": []
    }
  ]
}